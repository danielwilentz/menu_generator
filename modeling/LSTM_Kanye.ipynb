{
 "cells": [
  {
   "cell_type": "code",
   "execution_count": 1,
   "metadata": {},
   "outputs": [
    {
     "name": "stderr",
     "output_type": "stream",
     "text": [
      "Using TensorFlow backend.\n"
     ]
    }
   ],
   "source": [
    "# Necessary imports\n",
    "import numpy as np\n",
    "import pandas as pd\n",
    "pd.set_option('display.max_colwidth', -1)\n",
    "\n",
    "from keras.models import Sequential\n",
    "from keras.layers import Dense\n",
    "from keras.layers import Dropout\n",
    "from keras.layers import LSTM\n",
    "from keras.callbacks import ModelCheckpoint\n",
    "from keras.utils import np_utils"
   ]
  },
  {
   "cell_type": "code",
   "execution_count": 2,
   "metadata": {},
   "outputs": [],
   "source": [
    "# Load pickled data\n",
    "df = pd.read_pickle('../data/kanye_lyrics.pkl')"
   ]
  },
  {
   "cell_type": "code",
   "execution_count": 29,
   "metadata": {},
   "outputs": [
    {
     "data": {
      "text/html": [
       "<div>\n",
       "<style scoped>\n",
       "    .dataframe tbody tr th:only-of-type {\n",
       "        vertical-align: middle;\n",
       "    }\n",
       "\n",
       "    .dataframe tbody tr th {\n",
       "        vertical-align: top;\n",
       "    }\n",
       "\n",
       "    .dataframe thead th {\n",
       "        text-align: right;\n",
       "    }\n",
       "</style>\n",
       "<table border=\"1\" class=\"dataframe\">\n",
       "  <thead>\n",
       "    <tr style=\"text-align: right;\">\n",
       "      <th></th>\n",
       "      <th>Album</th>\n",
       "      <th>Song</th>\n",
       "      <th>Year</th>\n",
       "      <th>Run-time</th>\n",
       "      <th>Featured artist(s)</th>\n",
       "      <th>Writer(s)</th>\n",
       "      <th>Skit</th>\n",
       "      <th>Lyrics</th>\n",
       "      <th>lyric_length</th>\n",
       "      <th>lyrics_cleaned</th>\n",
       "    </tr>\n",
       "  </thead>\n",
       "  <tbody>\n",
       "    <tr>\n",
       "      <th>0</th>\n",
       "      <td>The College Dropout</td>\n",
       "      <td>Intro (Skit)</td>\n",
       "      <td>2004</td>\n",
       "      <td>00:19:00</td>\n",
       "      <td>NaN</td>\n",
       "      <td>Kanye West</td>\n",
       "      <td>Y</td>\n",
       "      <td>Kanye, can I talk to you for a minute? Me and the other faculty members was wonderin' could you do a lil som... Somethin' beautiful, somethin' that the kids is gon' love when they hear it. Tha's gon make them start jumpin' up and down and sharin' candy an' stuff. Think you could probably do somethin' for the kids for graduation to sing?</td>\n",
       "      <td>338</td>\n",
       "      <td>kanye, can i talk to you for a minute? me and the other faculty members was wonderin' could you do a lil som... somethin' beautiful, somethin' that the kids is gon' love when they hear it. tha's gon make them start jumpin' up and down and sharin' candy an' stuff. think you could probably do somethin' for the kids for graduation to sing?</td>\n",
       "    </tr>\n",
       "    <tr>\n",
       "      <th>1</th>\n",
       "      <td>The College Dropout</td>\n",
       "      <td>We Don't Care</td>\n",
       "      <td>2004</td>\n",
       "      <td>03:59:00</td>\n",
       "      <td>NaN</td>\n",
       "      <td>Kanye West, Miri Ben-Ari, Ross Vannelli</td>\n",
       "      <td>N</td>\n",
       "      <td>[Intro]\\nOh yeah, I've got the perfect song for the kids to sing\\nAnd all my people that's...\\n\\n[Hook]\\nDrug dealin' just to get by\\nStack ya' money 'til it get sky high\\nWe wasn't s'posed to make it past 25\\nJoke's on you, we still alive\\nThrow your hands up in the sky and say:\\n\"We don't care what people say\"\\n\\n[Verse 1]\\nIf this is your first time hearin' this\\nYou are about to experience somethin' so cold, man\\nWe never had nothin' handed, took nothin' for granted\\nTook nothin' from no man, man, I'm my own man\\nBut as a shorty I looked up to the dopeman\\nOnly adult man I knew that wasn't broke, man\\nFlickin' Starter coats, man\\nMan, you don't know, man\\nWe don't care what people say\\nThis is for my niggas outside all winter\\n'Cause this summer they ain't finna say: \"next summer I'm finna\"\\nSittin' in the hood like community colleges\\nThis dope money here is Lil' Trey's scholarship\\n'Cause ain't no tuition for having no ambition\\nAnd ain't no loans for sittin' your ass at home\\nSo we forced to sell crack, rap, and get a job\\nYou gotta do somethin' man, your ass is grown\\n\\n[Hook]\\nDrug dealin' just to get by\\nStack ya' money 'til it get sky high\\n(Kids, sing! Kids, sing!)\\nWe wasn't s'posed to make it past 25\\nJoke's on you, we still alive\\nThrow your hands up in the sky and say:\\n\"We don't care what people say\"\\n\\n[Verse 2]\\nThe second verse is for my dogs workin' 9 to 5 that still hustle\\n'Cause a nigga can't shine off $6.55\\nAnd everybody sellin' makeup, Jacob's\\nAnd bootlegged tapes just to get they cake up\\nWe put shit on layaway, then come back\\nWe claim other people kids on our income tax\\nWe take that money, cop work, then push packs to get paid\\nAnd we don't care what people say\\nMomma say she wanna move South\\nScratchin' lottery tickets, eyes on a new house\\n'Round the same time, Doe ran up in dude house\\nCouldn't get a job, so since he couldn't get work\\nHe figured he'd take work\\nThe drug game bulimic, it's hard to get weight\\nA nigga's money is homo, it's hard to get straight\\nBut we gon' keep bakin' til the day we get cake\\nAnd \"we don't care what people say\"\\n\\n[Hook]\\nDrug dealin' just to get by\\nStack ya' money 'til it get sky high\\n(Kids, sing! Kids, sing!)\\nWe wasn't s'posed to make it past 25\\nJoke's on you, we still alive\\nThrow your hands up in the sky and say:\\n\"We don't care what people say\"\\n\\n[Verse 3]\\nYou know the kids gon' act a fool\\nWhen you stop the programs for after school\\nAnd they DCFS, some of 'em dyslexic\\nThey favorite 50 Cent song \"12 Questions\"\\nWe scream: \"rocks, blow, weed, park\", see, now we smart\\nWe ain't retards, the way teachers thought\\nHold up, hold fast, we make more cash\\nNow tell my momma I belong in that slow class\\nSad enough we on welfare\\nThey tryna put me on the school bus with the space for the wheelchair\\nI'm tryna get the car with the chromie wheels here\\nThey tryna cut our lights out like we don't live here\\nLook what was handed us, fathers abandoned us\\nWhen we get them hammers, go on, call the ambulance\\nSometimes I feel no one in this world understands us\\nBut \"we don't care what people say\"\\nMy niggas\\n\\n[Hook]\\nDrug dealin' just to get by\\nStack ya' money 'til it get sky high\\n(Kids, sing! Kids, sing!)\\nWe wasn't s'posed to make it past 25\\nJoke's on you, we still alive\\nThrow your hands up in the sky and say:\\n\"We don't care what people say\"</td>\n",
       "      <td>3146</td>\n",
       "      <td>oh yeah, i've got the perfect song for the kids to sing and all my people that's...   drug dealin' just to get by stack ya' money 'til it get sky high we wasn't s'posed to make it past 25 joke's on you, we still alive throw your hands up in the sky and say: \"we don't care what people say\"   if this is your first time hearin' this you are about to experience somethin' so cold, man we never had nothin' handed, took nothin' for granted took nothin' from no man, man, i'm my own man but as a shorty i looked up to the dopeman only adult man i knew that wasn't broke, man flickin' starter coats, man man, you don't know, man we don't care what people say this is for my niggas outside all winter 'cause this summer they ain't finna say: \"next summer i'm finna\" sittin' in the hood like community colleges this dope money here is lil' trey's scholarship 'cause ain't no tuition for having no ambition and ain't no loans for sittin' your ass at home so we forced to sell crack, rap, and get a job you gotta do somethin' man, your ass is grown   drug dealin' just to get by stack ya' money 'til it get sky high  we wasn't s'posed to make it past 25 joke's on you, we still alive throw your hands up in the sky and say: \"we don't care what people say\"   the second verse is for my dogs workin' 9 to 5 that still hustle 'cause a nigga can't shine off $6.55 and everybody sellin' makeup, jacob's and bootlegged tapes just to get they cake up we put shit on layaway, then come back we claim other people kids on our income tax we take that money, cop work, then push packs to get paid and we don't care what people say momma say she wanna move south scratchin' lottery tickets, eyes on a new house 'round the same time, doe ran up in dude house couldn't get a job, so since he couldn't get work he figured he'd take work the drug game bulimic, it's hard to get weight a nigga's money is homo, it's hard to get straight but we gon' keep bakin' til the day we get cake and \"we don't care what people say\"   drug dealin' just to get by stack ya' money 'til it get sky high  we wasn't s'posed to make it past 25 joke's on you, we still alive throw your hands up in the sky and say: \"we don't care what people say\"   you know the kids gon' act a fool when you stop the programs for after school and they dcfs, some of 'em dyslexic they favorite 50 cent song \"12 questions\" we scream: \"rocks, blow, weed, park\", see, now we smart we ain't retards, the way teachers thought hold up, hold fast, we make more cash now tell my momma i belong in that slow class sad enough we on welfare they tryna put me on the school bus with the space for the wheelchair i'm tryna get the car with the chromie wheels here they tryna cut our lights out like we don't live here look what was handed us, fathers abandoned us when we get them hammers, go on, call the ambulance sometimes i feel no one in this world understands us but \"we don't care what people say\" my niggas   drug dealin' just to get by stack ya' money 'til it get sky high  we wasn't s'posed to make it past 25 joke's on you, we still alive throw your hands up in the sky and say: \"we don't care what people say\"</td>\n",
       "    </tr>\n",
       "    <tr>\n",
       "      <th>2</th>\n",
       "      <td>The College Dropout</td>\n",
       "      <td>Graduation Day</td>\n",
       "      <td>2004</td>\n",
       "      <td>01:22:00</td>\n",
       "      <td>NaN</td>\n",
       "      <td>Kanye West, John Stephens, Miri Ben-Ari</td>\n",
       "      <td>N</td>\n",
       "      <td>What in the fuck was that Kanye?!\\nI told you to do some shit for the kids!\\nYou can give me your muthafuckin' graduation ticket right now!\\nYou give me this muthafuckin' robe before you catch some senioritis!\\nYou will not walk across that stage, you won’t slide across that stage!\\nA muthafucka can’t pull you across that stage Kanye!\\nWho told you see, I told you to do somethin' uplifting!\\nI’m tryin' to get you out here with these white people and this how you're gonna do me!\\nYou know what, you's a nigga!\\nAnd I don’t mean that in no nice way\\nHad little kids sing about the shit, the jokes on you\\nYou throw your mutha hands in the air, and wave good-bye to everybody\\nCause you gettin' the fuck out of this campus\\nWhat the fuck you gone do now\\n\\n[John Legend]\\nI'm no longer confused but don't tell anybody\\nI'm about to break the rules but don't tell anybody\\nI got something better than school but don't tell anybody\\nMy momma would kill me but don't tell anybody\\nShe wants me to get a good ass job just like everybody\\nShe ain't walked in my shoes I'm just not everybody</td>\n",
       "      <td>1053</td>\n",
       "      <td>what in the fuck was that kanye?! i told you to do some shit for the kids! you can give me your muthafuckin' graduation ticket right now! you give me this muthafuckin' robe before you catch some senioritis! you will not walk across that stage, you won’t slide across that stage! a muthafucka can’t pull you across that stage kanye! who told you see, i told you to do somethin' uplifting! i’m tryin' to get you out here with these white people and this how you're gonna do me! you know what, you's a nigga! and i don’t mean that in no nice way had little kids sing about the shit, the jokes on you you throw your mutha hands in the air, and wave good-bye to everybody cause you gettin' the fuck out of this campus what the fuck you gone do now   i'm no longer confused but don't tell anybody i'm about to break the rules but don't tell anybody i got something better than school but don't tell anybody my momma would kill me but don't tell anybody she wants me to get a good ass job just like everybody she ain't walked in my shoes i'm just not everybody</td>\n",
       "    </tr>\n",
       "    <tr>\n",
       "      <th>3</th>\n",
       "      <td>The College Dropout</td>\n",
       "      <td>All Falls Down</td>\n",
       "      <td>2004</td>\n",
       "      <td>03:43:00</td>\n",
       "      <td>Syleena Johnson</td>\n",
       "      <td>Kanye West, Lauryn Hill</td>\n",
       "      <td>N</td>\n",
       "      <td>[Hook: Syleena Johnson + Kanye West]\\nOh, when it all, it all falls down\\nYeah, this the real one, baby\\nI'm tellin' you all, it all falls down\\nUh, Chi-Town, stand up!\\nOh, when it all, it all falls down\\nSouthside, Southside\\nWe gon' set this party off right\\nI'm tellin' you all, it all falls down\\nWestside, Westside\\nWe gon' set this party off right\\nOh, when it all\\n\\n[Verse 1: Kanye West]\\nMan, I promise, she's so self-conscious\\nShe has no idea what she doin' in college\\nThat major that she majored in don't make no money\\nBut she won't drop out, her parents'll look at her funny\\nNow, tell me that ain't insecurr\\nThe concept of school seems so securr\\nSophomore, three yurrs, ain't picked a carurr\\nShe like, \"Fuck it, I'll just stay down hurr and do hair.\"\\n‘Cause that's enough money to buy her a few pairs\\nOf new Airs, ‘cause her baby daddy don't really care\\nShe's so precious with the peer pressure\\nCouldn't afford a car, so she named her daughter Alexis\\nShe had hair so long that it looked like weave\\nThen she cut it all off, now she look like Eve\\nAnd she be dealin' with some issues that you can't believe\\nSingle black female addicted to retail, and well\\n\\n[Hook: Syleena Johnson + Kanye West]\\nOh, when it all, it all falls down\\nAnd when it falls down, who you gon' call now?\\nI'm tellin' you all, it all falls down\\nC'mon, c'mon, and when it falls down\\nOh, when it all\\n\\n[Verse 2: Kanye West]\\nMan, I promise, I'm so self-conscious\\nThat's why you always see me with at least one of my watches\\nRollie's and Pasha's done drove me crazy\\nI can't even pronounce nothin', pass that Ver-say-see!\\nThen I spent four hundred bucks on this\\nJust to be like, \"Nigga, you ain't up on this.\"\\nAnd I can't even go to the grocery store\\nWithout some Ones that's clean and a shirt with a team\\nIt seem we livin' the American Dream\\nBut the people highest up got the lowest self-esteem\\nThe prettiest people do the ugliest things\\nFor the road to riches and diamond rings\\nWe shine because they hate us, floss 'cause they degrade us\\nWe tryna buy back our 40 acres\\nAnd for that paper, look how low we'll stoop\\nEven if you in a Benz, you still a nigga in a coupe\\n\\n[Hook: Syleena Johnson + Kanye West]\\nOh, when it all, it all falls down\\nCome on, come on\\nI'm tellin' you all, it all falls down\\nAnd when it falls down, who you gon' call now?\\nOh, when it all, it all falls down\\nCome on, come on\\nI'm tellin' you all, it all falls down\\nAnd when it all falls down\\n\\n[Verse 3: Kanye West]\\nI say, \"Fuck the police,\" that's how I treat 'em\\nWe buy our way out of jail, but we can't buy freedom\\nWe'll buy a lot of clothes, but we don't really need 'em\\nThings we buy to cover up what's inside\\n'Cause they made us hate ourself and love they wealth\\nThat's why shorty's hollerin', \"Where the ballers at?\"\\nDrug dealer buy Jordan, crackhead buy crack\\nAnd the white man get paid off of all of that\\nBut I ain't even gon' act holier than thou\\n'Cause fuck it, I went to Jacob with 25 thou\\nBefore I had a house and I'd do it again\\n‘Cause I wanna be on 106 &amp; Park, pushin' a Benz\\nI want to act ballerific like it's all terrific\\nI got a couple past-due bills, I won't get specific\\nI got a problem with spendin' before I get it\\nWe all self-conscious, I'm just the first to admit it\\n\\n[Hook: Syleena Johnson + Kanye West]\\nOh, when it all, it all falls down\\nC'mon, c'mon\\nAnd when it falls down, who you gon' call now?\\nI'm tellin' you all, it all falls down\\nC'mon c'mon, and when it falls down\\nOh, when it all, it all falls down\\nSouthside, Southside\\nWe gon' set this party off right\\nI'm tellin' you all, it all falls down\\nWestside, Westside\\nWe gon' set this party off right\\nOh when it all, it all falls down\\nChi-Town, Chi-Town\\nWe gon' show 'em how we get down\\nI'm tellin' you all, it all falls down\\nNow, Syleena, you just like a safe belt, you saved my life\\nC'mon\\nOh when it all, it all falls down\\nI'm tellin' you all, it all falls down</td>\n",
       "      <td>3662</td>\n",
       "      <td>oh, when it all, it all falls down yeah, this the real one, baby i'm tellin' you all, it all falls down uh, chi-town, stand up! oh, when it all, it all falls down southside, southside we gon' set this party off right i'm tellin' you all, it all falls down westside, westside we gon' set this party off right oh, when it all   man, i promise, she's so self-conscious she has no idea what she doin' in college that major that she majored in don't make no money but she won't drop out, her parents'll look at her funny now, tell me that ain't insecurr the concept of school seems so securr sophomore, three yurrs, ain't picked a carurr she like, \"fuck it, i'll just stay down hurr and do hair.\" ‘cause that's enough money to buy her a few pairs of new airs, ‘cause her baby daddy don't really care she's so precious with the peer pressure couldn't afford a car, so she named her daughter alexis she had hair so long that it looked like weave then she cut it all off, now she look like eve and she be dealin' with some issues that you can't believe single black female addicted to retail, and well   oh, when it all, it all falls down and when it falls down, who you gon' call now? i'm tellin' you all, it all falls down c'mon, c'mon, and when it falls down oh, when it all   man, i promise, i'm so self-conscious that's why you always see me with at least one of my watches rollie's and pasha's done drove me crazy i can't even pronounce nothin', pass that ver-say-see! then i spent four hundred bucks on this just to be like, \"nigga, you ain't up on this.\" and i can't even go to the grocery store without some ones that's clean and a shirt with a team it seem we livin' the american dream but the people highest up got the lowest self-esteem the prettiest people do the ugliest things for the road to riches and diamond rings we shine because they hate us, floss 'cause they degrade us we tryna buy back our 40 acres and for that paper, look how low we'll stoop even if you in a benz, you still a nigga in a coupe   oh, when it all, it all falls down come on, come on i'm tellin' you all, it all falls down and when it falls down, who you gon' call now? oh, when it all, it all falls down come on, come on i'm tellin' you all, it all falls down and when it all falls down   i say, \"fuck the police,\" that's how i treat 'em we buy our way out of jail, but we can't buy freedom we'll buy a lot of clothes, but we don't really need 'em things we buy to cover up what's inside 'cause they made us hate ourself and love they wealth that's why shorty's hollerin', \"where the ballers at?\" drug dealer buy jordan, crackhead buy crack and the white man get paid off of all of that but i ain't even gon' act holier than thou 'cause fuck it, i went to jacob with 25 thou before i had a house and i'd do it again ‘cause i wanna be on 106 &amp; park, pushin' a benz i want to act ballerific like it's all terrific i got a couple past-due bills, i won't get specific i got a problem with spendin' before i get it we all self-conscious, i'm just the first to admit it   oh, when it all, it all falls down c'mon, c'mon and when it falls down, who you gon' call now? i'm tellin' you all, it all falls down c'mon c'mon, and when it falls down oh, when it all, it all falls down southside, southside we gon' set this party off right i'm tellin' you all, it all falls down westside, westside we gon' set this party off right oh when it all, it all falls down chi-town, chi-town we gon' show 'em how we get down i'm tellin' you all, it all falls down now, syleena, you just like a safe belt, you saved my life c'mon oh when it all, it all falls down i'm tellin' you all, it all falls down</td>\n",
       "    </tr>\n",
       "    <tr>\n",
       "      <th>4</th>\n",
       "      <td>The College Dropout</td>\n",
       "      <td>I'll Fly Away</td>\n",
       "      <td>2004</td>\n",
       "      <td>01:09:00</td>\n",
       "      <td>NaN</td>\n",
       "      <td>Albert E. Brumley</td>\n",
       "      <td>N</td>\n",
       "      <td>One glad morning\\nWhen this life is over\\nI'll fly away\\nTo a land where\\nJoy shall never end\\nI'll fly away\\n\\nOh I'll fly away oh glory\\nI'll fly away\\nWhen I die Hallelujah bye and bye\\nI'll fly away</td>\n",
       "      <td>192</td>\n",
       "      <td>one glad morning when this life is over i'll fly away to a land where joy shall never end i'll fly away  oh i'll fly away oh glory i'll fly away when i die hallelujah bye and bye i'll fly away</td>\n",
       "    </tr>\n",
       "  </tbody>\n",
       "</table>\n",
       "</div>"
      ],
      "text/plain": [
       "                 Album            Song  Year  Run-time Featured artist(s)  \\\n",
       "0  The College Dropout  Intro (Skit)    2004  00:19:00  NaN                 \n",
       "1  The College Dropout  We Don't Care   2004  03:59:00  NaN                 \n",
       "2  The College Dropout  Graduation Day  2004  01:22:00  NaN                 \n",
       "3  The College Dropout  All Falls Down  2004  03:43:00  Syleena Johnson     \n",
       "4  The College Dropout  I'll Fly Away   2004  01:09:00  NaN                 \n",
       "\n",
       "                                 Writer(s) Skit  \\\n",
       "0  Kanye West                               Y     \n",
       "1  Kanye West, Miri Ben-Ari, Ross Vannelli  N     \n",
       "2  Kanye West, John Stephens, Miri Ben-Ari  N     \n",
       "3  Kanye West, Lauryn Hill                  N     \n",
       "4  Albert E. Brumley                        N     \n",
       "\n",
       "                                                                                                                                                                                                                                                                                                                                                                                                                                                                                                                                                                                                                                                                                                                                                                                                                                                                                                                                                                                                                                                                                                                                                                                                                                                                                                                                                                                                                                                                                                                                                                                                                                                                                                                                                                                                                                                                                                                                                                                                                                                                                                                                                                                                                                                                                                                                                                                                                                                                                                                                                                                                                                                                                                                                                                                                                                                                                                                                                                                                                                                                                                                                                                                                                                                                                                                                                                                                                                                                                                                                                                                                                                                                                                                                                                                                                                                                                                                                                                                                                                                                                                                                  Lyrics  \\\n",
       "0  Kanye, can I talk to you for a minute? Me and the other faculty members was wonderin' could you do a lil som... Somethin' beautiful, somethin' that the kids is gon' love when they hear it. Tha's gon make them start jumpin' up and down and sharin' candy an' stuff. Think you could probably do somethin' for the kids for graduation to sing?                                                                                                                                                                                                                                                                                                                                                                                                                                                                                                                                                                                                                                                                                                                                                                                                                                                                                                                                                                                                                                                                                                                                                                                                                                                                                                                                                                                                                                                                                                                                                                                                                                                                                                                                                                                                                                                                                                                                                                                                                                                                                                                                                                                                                                                                                                                                                                                                                                                                                                                                                                                                                                                                                                                                                                                                                                                                                                                                                                                                                                                                                                                                                                                                                                                                                                                                                                                                                                                                                                                                                                                                                                                                                                                                                                                      \n",
       "1  [Intro]\\nOh yeah, I've got the perfect song for the kids to sing\\nAnd all my people that's...\\n\\n[Hook]\\nDrug dealin' just to get by\\nStack ya' money 'til it get sky high\\nWe wasn't s'posed to make it past 25\\nJoke's on you, we still alive\\nThrow your hands up in the sky and say:\\n\"We don't care what people say\"\\n\\n[Verse 1]\\nIf this is your first time hearin' this\\nYou are about to experience somethin' so cold, man\\nWe never had nothin' handed, took nothin' for granted\\nTook nothin' from no man, man, I'm my own man\\nBut as a shorty I looked up to the dopeman\\nOnly adult man I knew that wasn't broke, man\\nFlickin' Starter coats, man\\nMan, you don't know, man\\nWe don't care what people say\\nThis is for my niggas outside all winter\\n'Cause this summer they ain't finna say: \"next summer I'm finna\"\\nSittin' in the hood like community colleges\\nThis dope money here is Lil' Trey's scholarship\\n'Cause ain't no tuition for having no ambition\\nAnd ain't no loans for sittin' your ass at home\\nSo we forced to sell crack, rap, and get a job\\nYou gotta do somethin' man, your ass is grown\\n\\n[Hook]\\nDrug dealin' just to get by\\nStack ya' money 'til it get sky high\\n(Kids, sing! Kids, sing!)\\nWe wasn't s'posed to make it past 25\\nJoke's on you, we still alive\\nThrow your hands up in the sky and say:\\n\"We don't care what people say\"\\n\\n[Verse 2]\\nThe second verse is for my dogs workin' 9 to 5 that still hustle\\n'Cause a nigga can't shine off $6.55\\nAnd everybody sellin' makeup, Jacob's\\nAnd bootlegged tapes just to get they cake up\\nWe put shit on layaway, then come back\\nWe claim other people kids on our income tax\\nWe take that money, cop work, then push packs to get paid\\nAnd we don't care what people say\\nMomma say she wanna move South\\nScratchin' lottery tickets, eyes on a new house\\n'Round the same time, Doe ran up in dude house\\nCouldn't get a job, so since he couldn't get work\\nHe figured he'd take work\\nThe drug game bulimic, it's hard to get weight\\nA nigga's money is homo, it's hard to get straight\\nBut we gon' keep bakin' til the day we get cake\\nAnd \"we don't care what people say\"\\n\\n[Hook]\\nDrug dealin' just to get by\\nStack ya' money 'til it get sky high\\n(Kids, sing! Kids, sing!)\\nWe wasn't s'posed to make it past 25\\nJoke's on you, we still alive\\nThrow your hands up in the sky and say:\\n\"We don't care what people say\"\\n\\n[Verse 3]\\nYou know the kids gon' act a fool\\nWhen you stop the programs for after school\\nAnd they DCFS, some of 'em dyslexic\\nThey favorite 50 Cent song \"12 Questions\"\\nWe scream: \"rocks, blow, weed, park\", see, now we smart\\nWe ain't retards, the way teachers thought\\nHold up, hold fast, we make more cash\\nNow tell my momma I belong in that slow class\\nSad enough we on welfare\\nThey tryna put me on the school bus with the space for the wheelchair\\nI'm tryna get the car with the chromie wheels here\\nThey tryna cut our lights out like we don't live here\\nLook what was handed us, fathers abandoned us\\nWhen we get them hammers, go on, call the ambulance\\nSometimes I feel no one in this world understands us\\nBut \"we don't care what people say\"\\nMy niggas\\n\\n[Hook]\\nDrug dealin' just to get by\\nStack ya' money 'til it get sky high\\n(Kids, sing! Kids, sing!)\\nWe wasn't s'posed to make it past 25\\nJoke's on you, we still alive\\nThrow your hands up in the sky and say:\\n\"We don't care what people say\"                                                                                                                                                                                                                                                                                                                                                                                                                                                                                                                                                                                                                          \n",
       "2  What in the fuck was that Kanye?!\\nI told you to do some shit for the kids!\\nYou can give me your muthafuckin' graduation ticket right now!\\nYou give me this muthafuckin' robe before you catch some senioritis!\\nYou will not walk across that stage, you won’t slide across that stage!\\nA muthafucka can’t pull you across that stage Kanye!\\nWho told you see, I told you to do somethin' uplifting!\\nI’m tryin' to get you out here with these white people and this how you're gonna do me!\\nYou know what, you's a nigga!\\nAnd I don’t mean that in no nice way\\nHad little kids sing about the shit, the jokes on you\\nYou throw your mutha hands in the air, and wave good-bye to everybody\\nCause you gettin' the fuck out of this campus\\nWhat the fuck you gone do now\\n\\n[John Legend]\\nI'm no longer confused but don't tell anybody\\nI'm about to break the rules but don't tell anybody\\nI got something better than school but don't tell anybody\\nMy momma would kill me but don't tell anybody\\nShe wants me to get a good ass job just like everybody\\nShe ain't walked in my shoes I'm just not everybody                                                                                                                                                                                                                                                                                                                                                                                                                                                                                                                                                                                                                                                                                                                                                                                                                                                                                                                                                                                                                                                                                                                                                                                                                                                                                                                                                                                                                                                                                                                                                                                                                                                                                                                                                                                                                                                                                                                                                                                                                                                                                                                                                                                                                                                                                                                                                                                                                                                                                                                                                                                                                                                                                                                                                                                                                                                                                                                                                                                                         \n",
       "3  [Hook: Syleena Johnson + Kanye West]\\nOh, when it all, it all falls down\\nYeah, this the real one, baby\\nI'm tellin' you all, it all falls down\\nUh, Chi-Town, stand up!\\nOh, when it all, it all falls down\\nSouthside, Southside\\nWe gon' set this party off right\\nI'm tellin' you all, it all falls down\\nWestside, Westside\\nWe gon' set this party off right\\nOh, when it all\\n\\n[Verse 1: Kanye West]\\nMan, I promise, she's so self-conscious\\nShe has no idea what she doin' in college\\nThat major that she majored in don't make no money\\nBut she won't drop out, her parents'll look at her funny\\nNow, tell me that ain't insecurr\\nThe concept of school seems so securr\\nSophomore, three yurrs, ain't picked a carurr\\nShe like, \"Fuck it, I'll just stay down hurr and do hair.\"\\n‘Cause that's enough money to buy her a few pairs\\nOf new Airs, ‘cause her baby daddy don't really care\\nShe's so precious with the peer pressure\\nCouldn't afford a car, so she named her daughter Alexis\\nShe had hair so long that it looked like weave\\nThen she cut it all off, now she look like Eve\\nAnd she be dealin' with some issues that you can't believe\\nSingle black female addicted to retail, and well\\n\\n[Hook: Syleena Johnson + Kanye West]\\nOh, when it all, it all falls down\\nAnd when it falls down, who you gon' call now?\\nI'm tellin' you all, it all falls down\\nC'mon, c'mon, and when it falls down\\nOh, when it all\\n\\n[Verse 2: Kanye West]\\nMan, I promise, I'm so self-conscious\\nThat's why you always see me with at least one of my watches\\nRollie's and Pasha's done drove me crazy\\nI can't even pronounce nothin', pass that Ver-say-see!\\nThen I spent four hundred bucks on this\\nJust to be like, \"Nigga, you ain't up on this.\"\\nAnd I can't even go to the grocery store\\nWithout some Ones that's clean and a shirt with a team\\nIt seem we livin' the American Dream\\nBut the people highest up got the lowest self-esteem\\nThe prettiest people do the ugliest things\\nFor the road to riches and diamond rings\\nWe shine because they hate us, floss 'cause they degrade us\\nWe tryna buy back our 40 acres\\nAnd for that paper, look how low we'll stoop\\nEven if you in a Benz, you still a nigga in a coupe\\n\\n[Hook: Syleena Johnson + Kanye West]\\nOh, when it all, it all falls down\\nCome on, come on\\nI'm tellin' you all, it all falls down\\nAnd when it falls down, who you gon' call now?\\nOh, when it all, it all falls down\\nCome on, come on\\nI'm tellin' you all, it all falls down\\nAnd when it all falls down\\n\\n[Verse 3: Kanye West]\\nI say, \"Fuck the police,\" that's how I treat 'em\\nWe buy our way out of jail, but we can't buy freedom\\nWe'll buy a lot of clothes, but we don't really need 'em\\nThings we buy to cover up what's inside\\n'Cause they made us hate ourself and love they wealth\\nThat's why shorty's hollerin', \"Where the ballers at?\"\\nDrug dealer buy Jordan, crackhead buy crack\\nAnd the white man get paid off of all of that\\nBut I ain't even gon' act holier than thou\\n'Cause fuck it, I went to Jacob with 25 thou\\nBefore I had a house and I'd do it again\\n‘Cause I wanna be on 106 & Park, pushin' a Benz\\nI want to act ballerific like it's all terrific\\nI got a couple past-due bills, I won't get specific\\nI got a problem with spendin' before I get it\\nWe all self-conscious, I'm just the first to admit it\\n\\n[Hook: Syleena Johnson + Kanye West]\\nOh, when it all, it all falls down\\nC'mon, c'mon\\nAnd when it falls down, who you gon' call now?\\nI'm tellin' you all, it all falls down\\nC'mon c'mon, and when it falls down\\nOh, when it all, it all falls down\\nSouthside, Southside\\nWe gon' set this party off right\\nI'm tellin' you all, it all falls down\\nWestside, Westside\\nWe gon' set this party off right\\nOh when it all, it all falls down\\nChi-Town, Chi-Town\\nWe gon' show 'em how we get down\\nI'm tellin' you all, it all falls down\\nNow, Syleena, you just like a safe belt, you saved my life\\nC'mon\\nOh when it all, it all falls down\\nI'm tellin' you all, it all falls down   \n",
       "4  One glad morning\\nWhen this life is over\\nI'll fly away\\nTo a land where\\nJoy shall never end\\nI'll fly away\\n\\nOh I'll fly away oh glory\\nI'll fly away\\nWhen I die Hallelujah bye and bye\\nI'll fly away                                                                                                                                                                                                                                                                                                                                                                                                                                                                                                                                                                                                                                                                                                                                                                                                                                                                                                                                                                                                                                                                                                                                                                                                                                                                                                                                                                                                                                                                                                                                                                                                                                                                                                                                                                                                                                                                                                                                                                                                                                                                                                                                                                                                                                                                                                                                                                                                                                                                                                                                                                                                                                                                                                                                                                                                                                                                                                                                                                                                                                                                                                                                                                                                                                                                                                                                                                                                                                                                                                                                                                                                                                                                                                                                                                                                                                                                                                                              \n",
       "\n",
       "   lyric_length  \\\n",
       "0  338            \n",
       "1  3146           \n",
       "2  1053           \n",
       "3  3662           \n",
       "4  192            \n",
       "\n",
       "                                                                                                                                                                                                                                                                                                                                                                                                                                                                                                                                                                                                                                                                                                                                                                                                                                                                                                                                                                                                                                                                                                                                                                                                                                                                                                                                                                                                                                                                                                                                                                                                                                                                                                                                                                                                                                                                                                                                                                                                                                                                                                                                                                                                                                                                                                                                                                                                                                                                                                                                                                                                                                                                                                                                                                                                                                                                                                                                                                                                                                                                                                                                                                                                                                                                                                                                                                                                                                                                                                                                                                                                                                                                                                                                                                                                   lyrics_cleaned  \n",
       "0  kanye, can i talk to you for a minute? me and the other faculty members was wonderin' could you do a lil som... somethin' beautiful, somethin' that the kids is gon' love when they hear it. tha's gon make them start jumpin' up and down and sharin' candy an' stuff. think you could probably do somethin' for the kids for graduation to sing?                                                                                                                                                                                                                                                                                                                                                                                                                                                                                                                                                                                                                                                                                                                                                                                                                                                                                                                                                                                                                                                                                                                                                                                                                                                                                                                                                                                                                                                                                                                                                                                                                                                                                                                                                                                                                                                                                                                                                                                                                                                                                                                                                                                                                                                                                                                                                                                                                                                                                                                                                                                                                                                                                                                                                                                                                                                                                                                                                                                                                                                                                                                                                                                                                                                                                                                                                                                                                                                              \n",
       "1  oh yeah, i've got the perfect song for the kids to sing and all my people that's...   drug dealin' just to get by stack ya' money 'til it get sky high we wasn't s'posed to make it past 25 joke's on you, we still alive throw your hands up in the sky and say: \"we don't care what people say\"   if this is your first time hearin' this you are about to experience somethin' so cold, man we never had nothin' handed, took nothin' for granted took nothin' from no man, man, i'm my own man but as a shorty i looked up to the dopeman only adult man i knew that wasn't broke, man flickin' starter coats, man man, you don't know, man we don't care what people say this is for my niggas outside all winter 'cause this summer they ain't finna say: \"next summer i'm finna\" sittin' in the hood like community colleges this dope money here is lil' trey's scholarship 'cause ain't no tuition for having no ambition and ain't no loans for sittin' your ass at home so we forced to sell crack, rap, and get a job you gotta do somethin' man, your ass is grown   drug dealin' just to get by stack ya' money 'til it get sky high  we wasn't s'posed to make it past 25 joke's on you, we still alive throw your hands up in the sky and say: \"we don't care what people say\"   the second verse is for my dogs workin' 9 to 5 that still hustle 'cause a nigga can't shine off $6.55 and everybody sellin' makeup, jacob's and bootlegged tapes just to get they cake up we put shit on layaway, then come back we claim other people kids on our income tax we take that money, cop work, then push packs to get paid and we don't care what people say momma say she wanna move south scratchin' lottery tickets, eyes on a new house 'round the same time, doe ran up in dude house couldn't get a job, so since he couldn't get work he figured he'd take work the drug game bulimic, it's hard to get weight a nigga's money is homo, it's hard to get straight but we gon' keep bakin' til the day we get cake and \"we don't care what people say\"   drug dealin' just to get by stack ya' money 'til it get sky high  we wasn't s'posed to make it past 25 joke's on you, we still alive throw your hands up in the sky and say: \"we don't care what people say\"   you know the kids gon' act a fool when you stop the programs for after school and they dcfs, some of 'em dyslexic they favorite 50 cent song \"12 questions\" we scream: \"rocks, blow, weed, park\", see, now we smart we ain't retards, the way teachers thought hold up, hold fast, we make more cash now tell my momma i belong in that slow class sad enough we on welfare they tryna put me on the school bus with the space for the wheelchair i'm tryna get the car with the chromie wheels here they tryna cut our lights out like we don't live here look what was handed us, fathers abandoned us when we get them hammers, go on, call the ambulance sometimes i feel no one in this world understands us but \"we don't care what people say\" my niggas   drug dealin' just to get by stack ya' money 'til it get sky high  we wasn't s'posed to make it past 25 joke's on you, we still alive throw your hands up in the sky and say: \"we don't care what people say\"                                                                                                                                                                                                                                                                                                                                                                                                                                                                                                                                      \n",
       "2  what in the fuck was that kanye?! i told you to do some shit for the kids! you can give me your muthafuckin' graduation ticket right now! you give me this muthafuckin' robe before you catch some senioritis! you will not walk across that stage, you won’t slide across that stage! a muthafucka can’t pull you across that stage kanye! who told you see, i told you to do somethin' uplifting! i’m tryin' to get you out here with these white people and this how you're gonna do me! you know what, you's a nigga! and i don’t mean that in no nice way had little kids sing about the shit, the jokes on you you throw your mutha hands in the air, and wave good-bye to everybody cause you gettin' the fuck out of this campus what the fuck you gone do now   i'm no longer confused but don't tell anybody i'm about to break the rules but don't tell anybody i got something better than school but don't tell anybody my momma would kill me but don't tell anybody she wants me to get a good ass job just like everybody she ain't walked in my shoes i'm just not everybody                                                                                                                                                                                                                                                                                                                                                                                                                                                                                                                                                                                                                                                                                                                                                                                                                                                                                                                                                                                                                                                                                                                                                                                                                                                                                                                                                                                                                                                                                                                                                                                                                                                                                                                                                                                                                                                                                                                                                                                                                                                                                                                                                                                                                                                                                                                                                                                                                                                                                                                                                                                                                                                                                                                   \n",
       "3  oh, when it all, it all falls down yeah, this the real one, baby i'm tellin' you all, it all falls down uh, chi-town, stand up! oh, when it all, it all falls down southside, southside we gon' set this party off right i'm tellin' you all, it all falls down westside, westside we gon' set this party off right oh, when it all   man, i promise, she's so self-conscious she has no idea what she doin' in college that major that she majored in don't make no money but she won't drop out, her parents'll look at her funny now, tell me that ain't insecurr the concept of school seems so securr sophomore, three yurrs, ain't picked a carurr she like, \"fuck it, i'll just stay down hurr and do hair.\" ‘cause that's enough money to buy her a few pairs of new airs, ‘cause her baby daddy don't really care she's so precious with the peer pressure couldn't afford a car, so she named her daughter alexis she had hair so long that it looked like weave then she cut it all off, now she look like eve and she be dealin' with some issues that you can't believe single black female addicted to retail, and well   oh, when it all, it all falls down and when it falls down, who you gon' call now? i'm tellin' you all, it all falls down c'mon, c'mon, and when it falls down oh, when it all   man, i promise, i'm so self-conscious that's why you always see me with at least one of my watches rollie's and pasha's done drove me crazy i can't even pronounce nothin', pass that ver-say-see! then i spent four hundred bucks on this just to be like, \"nigga, you ain't up on this.\" and i can't even go to the grocery store without some ones that's clean and a shirt with a team it seem we livin' the american dream but the people highest up got the lowest self-esteem the prettiest people do the ugliest things for the road to riches and diamond rings we shine because they hate us, floss 'cause they degrade us we tryna buy back our 40 acres and for that paper, look how low we'll stoop even if you in a benz, you still a nigga in a coupe   oh, when it all, it all falls down come on, come on i'm tellin' you all, it all falls down and when it falls down, who you gon' call now? oh, when it all, it all falls down come on, come on i'm tellin' you all, it all falls down and when it all falls down   i say, \"fuck the police,\" that's how i treat 'em we buy our way out of jail, but we can't buy freedom we'll buy a lot of clothes, but we don't really need 'em things we buy to cover up what's inside 'cause they made us hate ourself and love they wealth that's why shorty's hollerin', \"where the ballers at?\" drug dealer buy jordan, crackhead buy crack and the white man get paid off of all of that but i ain't even gon' act holier than thou 'cause fuck it, i went to jacob with 25 thou before i had a house and i'd do it again ‘cause i wanna be on 106 & park, pushin' a benz i want to act ballerific like it's all terrific i got a couple past-due bills, i won't get specific i got a problem with spendin' before i get it we all self-conscious, i'm just the first to admit it   oh, when it all, it all falls down c'mon, c'mon and when it falls down, who you gon' call now? i'm tellin' you all, it all falls down c'mon c'mon, and when it falls down oh, when it all, it all falls down southside, southside we gon' set this party off right i'm tellin' you all, it all falls down westside, westside we gon' set this party off right oh when it all, it all falls down chi-town, chi-town we gon' show 'em how we get down i'm tellin' you all, it all falls down now, syleena, you just like a safe belt, you saved my life c'mon oh when it all, it all falls down i'm tellin' you all, it all falls down  \n",
       "4  one glad morning when this life is over i'll fly away to a land where joy shall never end i'll fly away  oh i'll fly away oh glory i'll fly away when i die hallelujah bye and bye i'll fly away                                                                                                                                                                                                                                                                                                                                                                                                                                                                                                                                                                                                                                                                                                                                                                                                                                                                                                                                                                                                                                                                                                                                                                                                                                                                                                                                                                                                                                                                                                                                                                                                                                                                                                                                                                                                                                                                                                                                                                                                                                                                                                                                                                                                                                                                                                                                                                                                                                                                                                                                                                                                                                                                                                                                                                                                                                                                                                                                                                                                                                                                                                                                                                                                                                                                                                                                                                                                                                                                                                                                                                                                                "
      ]
     },
     "execution_count": 29,
     "metadata": {},
     "output_type": "execute_result"
    }
   ],
   "source": [
    "# Check it out\n",
    "df.head()"
   ]
  },
  {
   "cell_type": "markdown",
   "metadata": {},
   "source": [
    "### Get all lyrics in a long single string"
   ]
  },
  {
   "cell_type": "code",
   "execution_count": 11,
   "metadata": {},
   "outputs": [],
   "source": [
    "lyrics_str = ''\n",
    "for i, row in df.iterrows():\n",
    "    lyrics_str += row['lyrics_cleaned'] + ' '"
   ]
  },
  {
   "cell_type": "markdown",
   "metadata": {},
   "source": [
    "### Prep string in the form of (sequences, following character) pairs to train an LSTM"
   ]
  },
  {
   "cell_type": "code",
   "execution_count": 16,
   "metadata": {},
   "outputs": [
    {
     "name": "stdout",
     "output_type": "stream",
     "text": [
      "Number of sequences: 98438\n",
      "Unique characters: 69\n"
     ]
    }
   ],
   "source": [
    "seq_len = 40\n",
    "step = 3\n",
    "sentences = []\n",
    "next_chars = []\n",
    "\n",
    "for i in range(0, len(lyrics_str) - seq_len, step):\n",
    "    sentences.append(lyrics_str[i: i + seq_len])\n",
    "    next_chars.append(lyrics_str[i + seq_len])\n",
    "print('Number of sequences:', len(sentences))\n",
    "\n",
    "\n",
    "chars = sorted(list(set(lyrics_str)))\n",
    "print('Unique characters:', len(chars))\n",
    "\n",
    "char_indices = dict((char, chars.index(char)) for char in chars)"
   ]
  },
  {
   "cell_type": "code",
   "execution_count": 37,
   "metadata": {},
   "outputs": [],
   "source": [
    "n_chars = len(lyrics_str)\n",
    "n_vocab = len(chars)\n",
    "n_sentences = len(sentences)"
   ]
  },
  {
   "cell_type": "markdown",
   "metadata": {},
   "source": [
    "### Convert sequences and following characters to vector forms"
   ]
  },
  {
   "cell_type": "code",
   "execution_count": 32,
   "metadata": {},
   "outputs": [],
   "source": [
    "X = np.zeros((len(sentences), seq_len, len(chars)), dtype=np.bool)\n",
    "y = np.zeros((len(sentences), len(chars)), dtype=np.bool)\n",
    "for i, sentence in enumerate(sentences):\n",
    " \n",
    "    y[i, char_indices[next_chars[i]]] = 1\n",
    "    for t, char in enumerate(sentence):\n",
    "        X[i, t, char_indices[char]] = 1"
   ]
  },
  {
   "cell_type": "code",
   "execution_count": 33,
   "metadata": {},
   "outputs": [
    {
     "data": {
      "text/plain": [
       "(98438, 40, 69)"
      ]
     },
     "execution_count": 33,
     "metadata": {},
     "output_type": "execute_result"
    }
   ],
   "source": [
    "X.shape"
   ]
  },
  {
   "cell_type": "code",
   "execution_count": 34,
   "metadata": {},
   "outputs": [
    {
     "data": {
      "text/plain": [
       "(98438, 69)"
      ]
     },
     "execution_count": 34,
     "metadata": {},
     "output_type": "execute_result"
    }
   ],
   "source": [
    "y.shape"
   ]
  },
  {
   "cell_type": "code",
   "execution_count": 38,
   "metadata": {},
   "outputs": [
    {
     "name": "stdout",
     "output_type": "stream",
     "text": [
      "WARNING:tensorflow:From /anaconda3/lib/python3.7/site-packages/tensorflow/python/framework/op_def_library.py:263: colocate_with (from tensorflow.python.framework.ops) is deprecated and will be removed in a future version.\n",
      "Instructions for updating:\n",
      "Colocations handled automatically by placer.\n",
      "WARNING:tensorflow:From /anaconda3/lib/python3.7/site-packages/keras/backend/tensorflow_backend.py:3445: calling dropout (from tensorflow.python.ops.nn_ops) with keep_prob is deprecated and will be removed in a future version.\n",
      "Instructions for updating:\n",
      "Please use `rate` instead of `keep_prob`. Rate should be set to `rate = 1 - keep_prob`.\n"
     ]
    }
   ],
   "source": [
    "# define the LSTM model\n",
    "model = Sequential()\n",
    "model.add(LSTM(256, input_shape=(seq_len, n_vocab)))\n",
    "model.add(Dropout(0.2))\n",
    "model.add(Dense(n_vocab, activation='softmax'))\n",
    "model.compile(loss='categorical_crossentropy', optimizer='adam')"
   ]
  },
  {
   "cell_type": "code",
   "execution_count": null,
   "metadata": {},
   "outputs": [],
   "source": [
    "# define the checkpoint\n",
    "filepath=\"kanye_model_6_7_19/weights-improvement-{epoch:02d}-{loss:.4f}.hdf5\"\n",
    "checkpoint = ModelCheckpoint(filepath, monitor='loss', verbose=1, save_best_only=True, mode='min')\n",
    "callbacks_list = [checkpoint]"
   ]
  },
  {
   "cell_type": "code",
   "execution_count": null,
   "metadata": {},
   "outputs": [],
   "source": [
    "model.fit(x, y, epochs=100, batch_size=128, callbacks=callbacks_list)"
   ]
  }
 ],
 "metadata": {
  "kernelspec": {
   "display_name": "Python 3",
   "language": "python",
   "name": "python3"
  },
  "language_info": {
   "codemirror_mode": {
    "name": "ipython",
    "version": 3
   },
   "file_extension": ".py",
   "mimetype": "text/x-python",
   "name": "python",
   "nbconvert_exporter": "python",
   "pygments_lexer": "ipython3",
   "version": "3.7.2"
  }
 },
 "nbformat": 4,
 "nbformat_minor": 2
}
