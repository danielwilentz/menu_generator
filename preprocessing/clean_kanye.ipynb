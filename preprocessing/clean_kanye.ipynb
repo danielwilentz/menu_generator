{
 "cells": [
  {
   "cell_type": "code",
   "execution_count": 1,
   "metadata": {},
   "outputs": [],
   "source": [
    "# Imports\n",
    "import numpy as np\n",
    "import pandas as pd\n",
    "import csv\n",
    "import re \n",
    "import string\n",
    "import nltk\n",
    "from nltk.corpus import words, stopwords\n",
    "from langdetect import detect"
   ]
  },
  {
   "cell_type": "code",
   "execution_count": 9,
   "metadata": {},
   "outputs": [],
   "source": [
    "# grab the kanye file\n",
    "\n",
    "kanye_file = '../data/Kanye Lyrics.xlsx'\n",
    "kanye_xl = pd.ExcelFile(file)\n",
    "kanye_df = kanye_xl.parse('Kanye Lyrics (alpha2)')"
   ]
  },
  {
   "cell_type": "code",
   "execution_count": 11,
   "metadata": {},
   "outputs": [
    {
     "data": {
      "text/html": [
       "<div>\n",
       "<style scoped>\n",
       "    .dataframe tbody tr th:only-of-type {\n",
       "        vertical-align: middle;\n",
       "    }\n",
       "\n",
       "    .dataframe tbody tr th {\n",
       "        vertical-align: top;\n",
       "    }\n",
       "\n",
       "    .dataframe thead th {\n",
       "        text-align: right;\n",
       "    }\n",
       "</style>\n",
       "<table border=\"1\" class=\"dataframe\">\n",
       "  <thead>\n",
       "    <tr style=\"text-align: right;\">\n",
       "      <th></th>\n",
       "      <th>Album</th>\n",
       "      <th>Song</th>\n",
       "      <th>Year</th>\n",
       "      <th>Run-time</th>\n",
       "      <th>Featured artist(s)</th>\n",
       "      <th>Writer(s)</th>\n",
       "      <th>Skit</th>\n",
       "      <th>Lyrics</th>\n",
       "    </tr>\n",
       "  </thead>\n",
       "  <tbody>\n",
       "    <tr>\n",
       "      <th>0</th>\n",
       "      <td>The College Dropout</td>\n",
       "      <td>Intro (Skit)</td>\n",
       "      <td>2004</td>\n",
       "      <td>00:19:00</td>\n",
       "      <td>NaN</td>\n",
       "      <td>Kanye West</td>\n",
       "      <td>Y</td>\n",
       "      <td>Kanye, can I talk to you for a minute? Me and ...</td>\n",
       "    </tr>\n",
       "    <tr>\n",
       "      <th>1</th>\n",
       "      <td>The College Dropout</td>\n",
       "      <td>We Don't Care</td>\n",
       "      <td>2004</td>\n",
       "      <td>03:59:00</td>\n",
       "      <td>NaN</td>\n",
       "      <td>Kanye West, Miri Ben-Ari, Ross Vannelli</td>\n",
       "      <td>N</td>\n",
       "      <td>[Intro]\\nOh yeah, I've got the perfect song fo...</td>\n",
       "    </tr>\n",
       "    <tr>\n",
       "      <th>2</th>\n",
       "      <td>The College Dropout</td>\n",
       "      <td>Graduation Day</td>\n",
       "      <td>2004</td>\n",
       "      <td>01:22:00</td>\n",
       "      <td>NaN</td>\n",
       "      <td>Kanye West, John Stephens, Miri Ben-Ari</td>\n",
       "      <td>N</td>\n",
       "      <td>What in the fuck was that Kanye?!\\nI told you ...</td>\n",
       "    </tr>\n",
       "    <tr>\n",
       "      <th>3</th>\n",
       "      <td>The College Dropout</td>\n",
       "      <td>All Falls Down</td>\n",
       "      <td>2004</td>\n",
       "      <td>03:43:00</td>\n",
       "      <td>Syleena Johnson</td>\n",
       "      <td>Kanye West, Lauryn Hill</td>\n",
       "      <td>N</td>\n",
       "      <td>[Hook: Syleena Johnson + Kanye West]\\nOh, when...</td>\n",
       "    </tr>\n",
       "    <tr>\n",
       "      <th>4</th>\n",
       "      <td>The College Dropout</td>\n",
       "      <td>I'll Fly Away</td>\n",
       "      <td>2004</td>\n",
       "      <td>01:09:00</td>\n",
       "      <td>NaN</td>\n",
       "      <td>Albert E. Brumley</td>\n",
       "      <td>N</td>\n",
       "      <td>One glad morning\\nWhen this life is over\\nI'll...</td>\n",
       "    </tr>\n",
       "  </tbody>\n",
       "</table>\n",
       "</div>"
      ],
      "text/plain": [
       "                 Album            Song  Year  Run-time Featured artist(s)  \\\n",
       "0  The College Dropout    Intro (Skit)  2004  00:19:00                NaN   \n",
       "1  The College Dropout   We Don't Care  2004  03:59:00                NaN   \n",
       "2  The College Dropout  Graduation Day  2004  01:22:00                NaN   \n",
       "3  The College Dropout  All Falls Down  2004  03:43:00    Syleena Johnson   \n",
       "4  The College Dropout   I'll Fly Away  2004  01:09:00                NaN   \n",
       "\n",
       "                                 Writer(s) Skit  \\\n",
       "0                               Kanye West    Y   \n",
       "1  Kanye West, Miri Ben-Ari, Ross Vannelli    N   \n",
       "2  Kanye West, John Stephens, Miri Ben-Ari    N   \n",
       "3                  Kanye West, Lauryn Hill    N   \n",
       "4                        Albert E. Brumley    N   \n",
       "\n",
       "                                              Lyrics  \n",
       "0  Kanye, can I talk to you for a minute? Me and ...  \n",
       "1  [Intro]\\nOh yeah, I've got the perfect song fo...  \n",
       "2  What in the fuck was that Kanye?!\\nI told you ...  \n",
       "3  [Hook: Syleena Johnson + Kanye West]\\nOh, when...  \n",
       "4  One glad morning\\nWhen this life is over\\nI'll...  "
      ]
     },
     "execution_count": 11,
     "metadata": {},
     "output_type": "execute_result"
    }
   ],
   "source": [
    "# check it out\n",
    "kanye_df.head()"
   ]
  },
  {
   "cell_type": "markdown",
   "metadata": {},
   "source": [
    "Hell yeah"
   ]
  },
  {
   "cell_type": "code",
   "execution_count": 65,
   "metadata": {},
   "outputs": [],
   "source": [
    "# Get length of each string\n",
    "kanye_df['lyric_length'] = kanye_df['Lyrics'].str.len()"
   ]
  },
  {
   "cell_type": "code",
   "execution_count": 67,
   "metadata": {},
   "outputs": [
    {
     "data": {
      "text/plain": [
       "320916.0"
      ]
     },
     "execution_count": 67,
     "metadata": {},
     "output_type": "execute_result"
    }
   ],
   "source": [
    "# Get length of all strings\n",
    "kanye_df['lyric_length'].sum()"
   ]
  },
  {
   "cell_type": "code",
   "execution_count": 90,
   "metadata": {},
   "outputs": [],
   "source": [
    "# Grab a sample for a test\n",
    "test = kanye_df.iloc[2]['Lyrics']"
   ]
  },
  {
   "cell_type": "code",
   "execution_count": 91,
   "metadata": {},
   "outputs": [
    {
     "data": {
      "text/plain": [
       "1066"
      ]
     },
     "execution_count": 91,
     "metadata": {},
     "output_type": "execute_result"
    }
   ],
   "source": [
    "len(test)"
   ]
  },
  {
   "cell_type": "code",
   "execution_count": 86,
   "metadata": {},
   "outputs": [],
   "source": [
    "test = test.replace('\\n', ' ')"
   ]
  },
  {
   "cell_type": "code",
   "execution_count": 93,
   "metadata": {},
   "outputs": [],
   "source": [
    "def remove_new_lines(my_text):\n",
    "    return my_text.replace('\\n', ' ')"
   ]
  },
  {
   "cell_type": "code",
   "execution_count": 94,
   "metadata": {},
   "outputs": [],
   "source": [
    "def remove_anything_in_brackets(my_text):\n",
    "    return re.sub(\"[\\(\\[].*?[\\)\\]]\", \"\", my_text)"
   ]
  },
  {
   "cell_type": "code",
   "execution_count": 95,
   "metadata": {},
   "outputs": [],
   "source": [
    "def lowercase(my_text):\n",
    "    return my_text.lower()"
   ]
  },
  {
   "cell_type": "code",
   "execution_count": 104,
   "metadata": {},
   "outputs": [],
   "source": [
    "kanye_df.Lyrics = kanye_df.Lyrics.astype(str)"
   ]
  },
  {
   "cell_type": "code",
   "execution_count": 102,
   "metadata": {},
   "outputs": [],
   "source": [
    "kanye_df['lyrics_cleaned'] = kanye_df['Lyrics'].apply(remove_new_lines).apply(remove_anything_in_brackets).apply(lowercase)"
   ]
  },
  {
   "cell_type": "code",
   "execution_count": 106,
   "metadata": {},
   "outputs": [],
   "source": [
    "kanye_df['lyrics_cleaned'] = kanye_df['lyrics_cleaned'].str.strip()"
   ]
  },
  {
   "cell_type": "code",
   "execution_count": 108,
   "metadata": {},
   "outputs": [],
   "source": [
    "kanye_df['lyric_length'] = kanye_df['lyrics_cleaned'].str.len()"
   ]
  },
  {
   "cell_type": "code",
   "execution_count": 110,
   "metadata": {},
   "outputs": [],
   "source": [
    "kanye_df.to_pickle('../data/kanye_lyrics.pkl')"
   ]
  },
  {
   "cell_type": "code",
   "execution_count": null,
   "metadata": {},
   "outputs": [],
   "source": []
  }
 ],
 "metadata": {
  "kernelspec": {
   "display_name": "Python 3",
   "language": "python",
   "name": "python3"
  },
  "language_info": {
   "codemirror_mode": {
    "name": "ipython",
    "version": 3
   },
   "file_extension": ".py",
   "mimetype": "text/x-python",
   "name": "python",
   "nbconvert_exporter": "python",
   "pygments_lexer": "ipython3",
   "version": "3.7.2"
  }
 },
 "nbformat": 4,
 "nbformat_minor": 2
}
