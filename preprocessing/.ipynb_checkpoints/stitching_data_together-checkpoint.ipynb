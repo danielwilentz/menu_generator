{
 "cells": [
  {
   "cell_type": "code",
   "execution_count": 13,
   "metadata": {},
   "outputs": [
    {
     "name": "stderr",
     "output_type": "stream",
     "text": [
      "[nltk_data] Downloading package stopwords to\n",
      "[nltk_data]     /Users/danielwilentz/nltk_data...\n",
      "[nltk_data]   Package stopwords is already up-to-date!\n",
      "[nltk_data] Downloading package words to\n",
      "[nltk_data]     /Users/danielwilentz/nltk_data...\n",
      "[nltk_data]   Package words is already up-to-date!\n"
     ]
    }
   ],
   "source": [
    "# Imports\n",
    "import numpy as np\n",
    "import pandas as pd\n",
    "import csv\n",
    "import re \n",
    "import string\n",
    "import nltk\n",
    "from nltk.corpus import words, stopwords\n",
    "\n",
    "# Setting options\n",
    "\n",
    "pd.set_option('display.max_colwidth', -1)\n",
    "nltk.download('stopwords')\n",
    "nltk.download('words')\n",
    "\n",
    "# Load stop words\n",
    "stop_words = stopwords.words('english')\n",
    "wordlist = words.words()"
   ]
  },
  {
   "cell_type": "markdown",
   "metadata": {},
   "source": [
    "# Read in Data"
   ]
  },
  {
   "cell_type": "markdown",
   "metadata": {},
   "source": [
    "### Firstly, we'll read in the dataset from the prior reddit project using r/foodporn"
   ]
  },
  {
   "cell_type": "code",
   "execution_count": 2,
   "metadata": {},
   "outputs": [],
   "source": [
    "reddit_data = pd.read_pickle('../data/cleaned_data.pkl')"
   ]
  },
  {
   "cell_type": "code",
   "execution_count": 5,
   "metadata": {},
   "outputs": [
    {
     "data": {
      "text/plain": [
       "42234"
      ]
     },
     "execution_count": 5,
     "metadata": {},
     "output_type": "execute_result"
    }
   ],
   "source": [
    "# check the length of the reddit data:\n",
    "len(reddit_data)"
   ]
  },
  {
   "cell_type": "code",
   "execution_count": 4,
   "metadata": {},
   "outputs": [
    {
     "data": {
      "text/html": [
       "<div>\n",
       "<style scoped>\n",
       "    .dataframe tbody tr th:only-of-type {\n",
       "        vertical-align: middle;\n",
       "    }\n",
       "\n",
       "    .dataframe tbody tr th {\n",
       "        vertical-align: top;\n",
       "    }\n",
       "\n",
       "    .dataframe thead th {\n",
       "        text-align: right;\n",
       "    }\n",
       "</style>\n",
       "<table border=\"1\" class=\"dataframe\">\n",
       "  <thead>\n",
       "    <tr style=\"text-align: right;\">\n",
       "      <th></th>\n",
       "      <th>cleaned_title</th>\n",
       "    </tr>\n",
       "  </thead>\n",
       "  <tbody>\n",
       "    <tr>\n",
       "      <th>41777</th>\n",
       "      <td>beefsteak mashed potatoes cooking something passion ish</td>\n",
       "    </tr>\n",
       "    <tr>\n",
       "      <th>39977</th>\n",
       "      <td>try mac cheese pic left comments</td>\n",
       "    </tr>\n",
       "    <tr>\n",
       "      <th>44031</th>\n",
       "      <td>sweetened reduced milk simple yet delish</td>\n",
       "    </tr>\n",
       "    <tr>\n",
       "      <th>28263</th>\n",
       "      <td>apple</td>\n",
       "    </tr>\n",
       "    <tr>\n",
       "      <th>2021</th>\n",
       "      <td>fry pork chop</td>\n",
       "    </tr>\n",
       "    <tr>\n",
       "      <th>30246</th>\n",
       "      <td>steak pie smoked applewood mash</td>\n",
       "    </tr>\n",
       "    <tr>\n",
       "      <th>27337</th>\n",
       "      <td>linguini marinara beef sausage mixture</td>\n",
       "    </tr>\n",
       "    <tr>\n",
       "      <th>38499</th>\n",
       "      <td>leg lamb dinner</td>\n",
       "    </tr>\n",
       "    <tr>\n",
       "      <th>41064</th>\n",
       "      <td>breakfast burrito</td>\n",
       "    </tr>\n",
       "    <tr>\n",
       "      <th>19207</th>\n",
       "      <td>farmers market score pulled pork carolina style bbq sauce mac cheese steamed kale</td>\n",
       "    </tr>\n",
       "    <tr>\n",
       "      <th>38975</th>\n",
       "      <td>grilled spinach artichoke flatbread pizza folks fun</td>\n",
       "    </tr>\n",
       "    <tr>\n",
       "      <th>32080</th>\n",
       "      <td>smoked brisket gallery</td>\n",
       "    </tr>\n",
       "    <tr>\n",
       "      <th>10776</th>\n",
       "      <td>bacon burger pepper jack cheese grilled onions</td>\n",
       "    </tr>\n",
       "    <tr>\n",
       "      <th>35215</th>\n",
       "      <td>nestle black magic chocolate review</td>\n",
       "    </tr>\n",
       "    <tr>\n",
       "      <th>9497</th>\n",
       "      <td>worldwide pea protein industry witness robust expansion cagr</td>\n",
       "    </tr>\n",
       "    <tr>\n",
       "      <th>14523</th>\n",
       "      <td>pasta bacon</td>\n",
       "    </tr>\n",
       "    <tr>\n",
       "      <th>21688</th>\n",
       "      <td>lobster nachos wings</td>\n",
       "    </tr>\n",
       "    <tr>\n",
       "      <th>35944</th>\n",
       "      <td>tri trip steak</td>\n",
       "    </tr>\n",
       "    <tr>\n",
       "      <th>23373</th>\n",
       "      <td>lemon poppy seed donuts</td>\n",
       "    </tr>\n",
       "    <tr>\n",
       "      <th>7426</th>\n",
       "      <td>strawberry blueberry cobbler</td>\n",
       "    </tr>\n",
       "  </tbody>\n",
       "</table>\n",
       "</div>"
      ],
      "text/plain": [
       "                                                                           cleaned_title\n",
       "41777  beefsteak mashed potatoes cooking something passion ish                          \n",
       "39977  try mac cheese pic left comments                                                 \n",
       "44031  sweetened reduced milk simple yet delish                                         \n",
       "28263  apple                                                                            \n",
       "2021   fry pork chop                                                                    \n",
       "30246  steak pie smoked applewood mash                                                  \n",
       "27337  linguini marinara beef sausage mixture                                           \n",
       "38499  leg lamb dinner                                                                  \n",
       "41064  breakfast burrito                                                                \n",
       "19207  farmers market score pulled pork carolina style bbq sauce mac cheese steamed kale\n",
       "38975  grilled spinach artichoke flatbread pizza folks fun                              \n",
       "32080  smoked brisket gallery                                                           \n",
       "10776  bacon burger pepper jack cheese grilled onions                                   \n",
       "35215  nestle black magic chocolate review                                              \n",
       "9497   worldwide pea protein industry witness robust expansion cagr                     \n",
       "14523  pasta bacon                                                                      \n",
       "21688  lobster nachos wings                                                             \n",
       "35944  tri trip steak                                                                   \n",
       "23373  lemon poppy seed donuts                                                          \n",
       "7426   strawberry blueberry cobbler                                                     "
      ]
     },
     "execution_count": 4,
     "metadata": {},
     "output_type": "execute_result"
    }
   ],
   "source": [
    "# check out a sample of the data\n",
    "reddit_data.sample(20)"
   ]
  },
  {
   "cell_type": "markdown",
   "metadata": {},
   "source": [
    "### Secondly, we'll read in the kaggle dataset"
   ]
  },
  {
   "cell_type": "code",
   "execution_count": 20,
   "metadata": {},
   "outputs": [
    {
     "name": "stdout",
     "output_type": "stream",
     "text": [
      "422039\n"
     ]
    }
   ],
   "source": [
    "kaggle_list = []\n",
    "\n",
    "with open('../data/Dish.csv') as csv_file:\n",
    "    csv_reader = csv.reader(csv_file, delimiter=',')\n",
    "    for i, row in enumerate(csv_reader):\n",
    "        if i >= 1:\n",
    "            kaggle_list.append(row[1])\n",
    "\n",
    "print(len(kaggle_list))"
   ]
  },
  {
   "cell_type": "code",
   "execution_count": 21,
   "metadata": {},
   "outputs": [],
   "source": [
    "# Convert to a dataframe\n",
    "kaggle_data = pd.DataFrame(kaggle_list)\n",
    "kaggle_data.columns = ['Title']"
   ]
  },
  {
   "cell_type": "code",
   "execution_count": 25,
   "metadata": {},
   "outputs": [
    {
     "data": {
      "text/html": [
       "<div>\n",
       "<style scoped>\n",
       "    .dataframe tbody tr th:only-of-type {\n",
       "        vertical-align: middle;\n",
       "    }\n",
       "\n",
       "    .dataframe tbody tr th {\n",
       "        vertical-align: top;\n",
       "    }\n",
       "\n",
       "    .dataframe thead th {\n",
       "        text-align: right;\n",
       "    }\n",
       "</style>\n",
       "<table border=\"1\" class=\"dataframe\">\n",
       "  <thead>\n",
       "    <tr style=\"text-align: right;\">\n",
       "      <th></th>\n",
       "      <th>Title</th>\n",
       "    </tr>\n",
       "  </thead>\n",
       "  <tbody>\n",
       "    <tr>\n",
       "      <th>99850</th>\n",
       "      <td>Cabinet Pudding Lemon Sauce</td>\n",
       "    </tr>\n",
       "    <tr>\n",
       "      <th>281874</th>\n",
       "      <td>Boned Squab Chicken Ecossaise</td>\n",
       "    </tr>\n",
       "    <tr>\n",
       "      <th>195654</th>\n",
       "      <td>Bourgogne Rose Carafe 13/6 Half-Carafe 7/6</td>\n",
       "    </tr>\n",
       "    <tr>\n",
       "      <th>265674</th>\n",
       "      <td>Veuve Clicquot, La Grande Dame, brut, 1990</td>\n",
       "    </tr>\n",
       "    <tr>\n",
       "      <th>215938</th>\n",
       "      <td>Melrose Rye Whiskey</td>\n",
       "    </tr>\n",
       "    <tr>\n",
       "      <th>320529</th>\n",
       "      <td>Moules (Mussels) Mariniere</td>\n",
       "    </tr>\n",
       "    <tr>\n",
       "      <th>326695</th>\n",
       "      <td>Soft clams in brochette, Mexicaine</td>\n",
       "    </tr>\n",
       "    <tr>\n",
       "      <th>11082</th>\n",
       "      <td>Nuttolene Toast</td>\n",
       "    </tr>\n",
       "    <tr>\n",
       "      <th>11677</th>\n",
       "      <td>St. Julien, B. &amp; G., 1887</td>\n",
       "    </tr>\n",
       "    <tr>\n",
       "      <th>358061</th>\n",
       "      <td>Uerziger Wurzgarten</td>\n",
       "    </tr>\n",
       "    <tr>\n",
       "      <th>19016</th>\n",
       "      <td>Joel B. Frazier's Old Sour Mash Whiskey, Glass</td>\n",
       "    </tr>\n",
       "    <tr>\n",
       "      <th>99679</th>\n",
       "      <td>St. Julien Claret, Barton &amp; Guestier</td>\n",
       "    </tr>\n",
       "    <tr>\n",
       "      <th>128229</th>\n",
       "      <td>breval</td>\n",
       "    </tr>\n",
       "    <tr>\n",
       "      <th>336694</th>\n",
       "      <td>biscuit, tortini</td>\n",
       "    </tr>\n",
       "    <tr>\n",
       "      <th>111210</th>\n",
       "      <td>Flambierte Ananas</td>\n",
       "    </tr>\n",
       "    <tr>\n",
       "      <th>318553</th>\n",
       "      <td>Bernaise sauce</td>\n",
       "    </tr>\n",
       "    <tr>\n",
       "      <th>305219</th>\n",
       "      <td>English Mutton Chop</td>\n",
       "    </tr>\n",
       "    <tr>\n",
       "      <th>35717</th>\n",
       "      <td>Wm. IV, V.O.P. Scotch Whiskey</td>\n",
       "    </tr>\n",
       "    <tr>\n",
       "      <th>173570</th>\n",
       "      <td>Sorbet Mandarine</td>\n",
       "    </tr>\n",
       "    <tr>\n",
       "      <th>219354</th>\n",
       "      <td>ROSE PETALS Home Made Soy Pasta in a Sweet Rice Ginger Sauce with Garden Vegetables (Taro Spring Roll, Brown Rice)</td>\n",
       "    </tr>\n",
       "  </tbody>\n",
       "</table>\n",
       "</div>"
      ],
      "text/plain": [
       "                                                                                                                     Title\n",
       "99850   Cabinet Pudding Lemon Sauce                                                                                       \n",
       "281874  Boned Squab Chicken Ecossaise                                                                                     \n",
       "195654  Bourgogne Rose Carafe 13/6 Half-Carafe 7/6                                                                        \n",
       "265674  Veuve Clicquot, La Grande Dame, brut, 1990                                                                        \n",
       "215938  Melrose Rye Whiskey                                                                                               \n",
       "320529  Moules (Mussels) Mariniere                                                                                        \n",
       "326695  Soft clams in brochette, Mexicaine                                                                                \n",
       "11082   Nuttolene Toast                                                                                                   \n",
       "11677   St. Julien, B. & G., 1887                                                                                         \n",
       "358061  Uerziger Wurzgarten                                                                                               \n",
       "19016   Joel B. Frazier's Old Sour Mash Whiskey, Glass                                                                    \n",
       "99679   St. Julien Claret, Barton & Guestier                                                                              \n",
       "128229  breval                                                                                                            \n",
       "336694  biscuit, tortini                                                                                                  \n",
       "111210  Flambierte Ananas                                                                                                 \n",
       "318553  Bernaise sauce                                                                                                    \n",
       "305219  English Mutton Chop                                                                                               \n",
       "35717   Wm. IV, V.O.P. Scotch Whiskey                                                                                     \n",
       "173570  Sorbet Mandarine                                                                                                  \n",
       "219354  ROSE PETALS Home Made Soy Pasta in a Sweet Rice Ginger Sauce with Garden Vegetables (Taro Spring Roll, Brown Rice)"
      ]
     },
     "execution_count": 25,
     "metadata": {},
     "output_type": "execute_result"
    }
   ],
   "source": [
    "# Check it out\n",
    "kaggle_data.sample(20)"
   ]
  },
  {
   "cell_type": "markdown",
   "metadata": {},
   "source": [
    "We'll have to run this kaggle set through a cleaning process as well"
   ]
  },
  {
   "cell_type": "markdown",
   "metadata": {},
   "source": [
    "# Define some cleaning functions"
   ]
  },
  {
   "cell_type": "code",
   "execution_count": 26,
   "metadata": {},
   "outputs": [],
   "source": [
    "# Function for removing punctuation\n",
    "def drop_punc(my_text):\n",
    "    clean_text = re.sub('[%s]' % re.escape(string.punctuation), ' ', my_text)\n",
    "    return clean_text"
   ]
  },
  {
   "cell_type": "code",
   "execution_count": 27,
   "metadata": {},
   "outputs": [],
   "source": [
    "# Function for making all text lowercase\n",
    "def lower(my_text):\n",
    "    clean_text = my_text.lower()\n",
    "    return clean_text"
   ]
  },
  {
   "cell_type": "code",
   "execution_count": 28,
   "metadata": {},
   "outputs": [],
   "source": [
    "# Function for removing all numbers\n",
    "def remove_numbers(my_text):\n",
    "    clean_text = re.sub('\\w*\\d\\w*', '', my_text)\n",
    "    return clean_text"
   ]
  },
  {
   "cell_type": "code",
   "execution_count": 29,
   "metadata": {},
   "outputs": [],
   "source": [
    "# Function for removing emojis\n",
    "def deEmojify(inputString):\n",
    "    return inputString.encode('ascii', 'ignore').decode('ascii')"
   ]
  },
  {
   "cell_type": "code",
   "execution_count": 30,
   "metadata": {},
   "outputs": [],
   "source": [
    "# Function for removing stop words\n",
    "def remove_stop(my_text):\n",
    "    text_list = my_text.split()\n",
    "    return ' '.join([word for word in text_list if word not in stop_words])"
   ]
  },
  {
   "cell_type": "code",
   "execution_count": 31,
   "metadata": {},
   "outputs": [],
   "source": [
    "# Function for stripping whitespace\n",
    "def my_strip(my_text):\n",
    "    try: return my_text.strip()\n",
    "    except Exception as e: return None"
   ]
  },
  {
   "cell_type": "code",
   "execution_count": null,
   "metadata": {},
   "outputs": [],
   "source": [
    "# Curated list of additional stop-words for this project\n",
    "my_stop_words = ['menu']\n",
    "\n",
    "# Function for removing my stop words\n",
    "def remove_my_stop(my_text):\n",
    "    text_list = my_text.split()\n",
    "    return ' '.join([word for word in text_list if word not in my_stop_words])"
   ]
  }
 ],
 "metadata": {
  "kernelspec": {
   "display_name": "Python 3",
   "language": "python",
   "name": "python3"
  },
  "language_info": {
   "codemirror_mode": {
    "name": "ipython",
    "version": 3
   },
   "file_extension": ".py",
   "mimetype": "text/x-python",
   "name": "python",
   "nbconvert_exporter": "python",
   "pygments_lexer": "ipython3",
   "version": "3.7.2"
  }
 },
 "nbformat": 4,
 "nbformat_minor": 2
}
