{
 "cells": [
  {
   "cell_type": "code",
   "execution_count": 53,
   "metadata": {},
   "outputs": [
    {
     "name": "stderr",
     "output_type": "stream",
     "text": [
      "Using TensorFlow backend.\n",
      "[nltk_data] Downloading package stopwords to\n",
      "[nltk_data]     /Users/danielwilentz/nltk_data...\n",
      "[nltk_data]   Package stopwords is already up-to-date!\n",
      "[nltk_data] Downloading package words to\n",
      "[nltk_data]     /Users/danielwilentz/nltk_data...\n",
      "[nltk_data]   Package words is already up-to-date!\n"
     ]
    }
   ],
   "source": [
    "# Imports\n",
    "import numpy as np\n",
    "import pandas as pd\n",
    "import csv\n",
    "import re \n",
    "import string\n",
    "import nltk\n",
    "from nltk.corpus import words, stopwords\n",
    "from langdetect import detect\n",
    "import pickle\n",
    "from joblib import load, dump\n",
    "\n",
    "from keras.models import Sequential\n",
    "from keras.layers import Dense\n",
    "from keras.layers import Dropout\n",
    "from keras.layers import LSTM\n",
    "from keras.callbacks import ModelCheckpoint\n",
    "from keras.utils import np_utils\n",
    "\n",
    "# Setting options\n",
    "\n",
    "pd.set_option('display.max_colwidth', -1)\n",
    "nltk.download('stopwords')\n",
    "nltk.download('words')\n",
    "\n",
    "# Load stop words\n",
    "stop_words = stopwords.words('english')\n",
    "wordlist = words.words()"
   ]
  },
  {
   "cell_type": "markdown",
   "metadata": {},
   "source": [
    "## Read in Data"
   ]
  },
  {
   "cell_type": "code",
   "execution_count": 19,
   "metadata": {},
   "outputs": [],
   "source": [
    "df = pd.read_pickle('../data/kaggle_and_reddit_dishes.pkl')"
   ]
  },
  {
   "cell_type": "code",
   "execution_count": 20,
   "metadata": {},
   "outputs": [],
   "source": [
    "df = df.rename(columns={\"cleaned_title\": \"title\"})"
   ]
  },
  {
   "cell_type": "code",
   "execution_count": 21,
   "metadata": {},
   "outputs": [
    {
     "data": {
      "text/plain": [
       "(50000, 1)"
      ]
     },
     "execution_count": 21,
     "metadata": {},
     "output_type": "execute_result"
    }
   ],
   "source": [
    "df.shape"
   ]
  },
  {
   "cell_type": "code",
   "execution_count": 22,
   "metadata": {},
   "outputs": [
    {
     "data": {
      "text/html": [
       "<div>\n",
       "<style scoped>\n",
       "    .dataframe tbody tr th:only-of-type {\n",
       "        vertical-align: middle;\n",
       "    }\n",
       "\n",
       "    .dataframe tbody tr th {\n",
       "        vertical-align: top;\n",
       "    }\n",
       "\n",
       "    .dataframe thead th {\n",
       "        text-align: right;\n",
       "    }\n",
       "</style>\n",
       "<table border=\"1\" class=\"dataframe\">\n",
       "  <thead>\n",
       "    <tr style=\"text-align: right;\">\n",
       "      <th></th>\n",
       "      <th>title</th>\n",
       "    </tr>\n",
       "  </thead>\n",
       "  <tbody>\n",
       "    <tr>\n",
       "      <th>729</th>\n",
       "      <td>making sushi sushi chef making kit really helped lot</td>\n",
       "    </tr>\n",
       "    <tr>\n",
       "      <th>39172</th>\n",
       "      <td>creme de menthe and vanilla bean ice cream</td>\n",
       "    </tr>\n",
       "    <tr>\n",
       "      <th>41575</th>\n",
       "      <td>gray hare soup cream of lettuce aux croutons souffle</td>\n",
       "    </tr>\n",
       "    <tr>\n",
       "      <th>2199</th>\n",
       "      <td>lightroom presets vol creativetacos</td>\n",
       "    </tr>\n",
       "    <tr>\n",
       "      <th>1600</th>\n",
       "      <td>cheesy spiral penne pasta diced wieners</td>\n",
       "    </tr>\n",
       "    <tr>\n",
       "      <th>23698</th>\n",
       "      <td>heard karma around anybody knows melt cheese roast potatoes</td>\n",
       "    </tr>\n",
       "    <tr>\n",
       "      <th>46236</th>\n",
       "      <td>cream of corn washingtin</td>\n",
       "    </tr>\n",
       "    <tr>\n",
       "      <th>2948</th>\n",
       "      <td>poached egg croissant ham bone</td>\n",
       "    </tr>\n",
       "    <tr>\n",
       "      <th>17395</th>\n",
       "      <td>meat croatian restaurant berlin</td>\n",
       "    </tr>\n",
       "    <tr>\n",
       "      <th>40332</th>\n",
       "      <td>carlshamns flagg punsch</td>\n",
       "    </tr>\n",
       "  </tbody>\n",
       "</table>\n",
       "</div>"
      ],
      "text/plain": [
       "                                                             title\n",
       "729    making sushi sushi chef making kit really helped lot       \n",
       "39172  creme de menthe and vanilla bean ice cream                 \n",
       "41575  gray hare soup cream of lettuce aux croutons souffle       \n",
       "2199   lightroom presets vol creativetacos                        \n",
       "1600   cheesy spiral penne pasta diced wieners                    \n",
       "23698  heard karma around anybody knows melt cheese roast potatoes\n",
       "46236  cream of corn washingtin                                   \n",
       "2948   poached egg croissant ham bone                             \n",
       "17395  meat croatian restaurant berlin                            \n",
       "40332  carlshamns flagg punsch                                    "
      ]
     },
     "execution_count": 22,
     "metadata": {},
     "output_type": "execute_result"
    }
   ],
   "source": [
    "df.sample(10)"
   ]
  },
  {
   "cell_type": "markdown",
   "metadata": {},
   "source": [
    "Ok, so a big problem with my LSTM has been the precense of extra spaces. I'm going to try to fix that by eliminating them in the cleaning process here."
   ]
  },
  {
   "cell_type": "code",
   "execution_count": 23,
   "metadata": {},
   "outputs": [],
   "source": [
    "def has_multiple_consec_spaces(my_text):\n",
    "    if re.search('[ ]{2,}', my_text):\n",
    "        return True\n",
    "    else:\n",
    "        return False"
   ]
  },
  {
   "cell_type": "code",
   "execution_count": 24,
   "metadata": {},
   "outputs": [],
   "source": [
    "def reduce_spaces(my_text):\n",
    "    '''\n",
    "    reduce two or more consecutive spaces with one space\n",
    "    '''\n",
    "    return re.sub('[ ]{2,}', ' ', my_text)"
   ]
  },
  {
   "cell_type": "code",
   "execution_count": null,
   "metadata": {},
   "outputs": [],
   "source": [
    "df['has_mult_consec_spaces'] = df['title'].apply(has_multiple_consec_spaces)"
   ]
  },
  {
   "cell_type": "code",
   "execution_count": 25,
   "metadata": {},
   "outputs": [
    {
     "data": {
      "text/html": [
       "<div>\n",
       "<style scoped>\n",
       "    .dataframe tbody tr th:only-of-type {\n",
       "        vertical-align: middle;\n",
       "    }\n",
       "\n",
       "    .dataframe tbody tr th {\n",
       "        vertical-align: top;\n",
       "    }\n",
       "\n",
       "    .dataframe thead th {\n",
       "        text-align: right;\n",
       "    }\n",
       "</style>\n",
       "<table border=\"1\" class=\"dataframe\">\n",
       "  <thead>\n",
       "    <tr style=\"text-align: right;\">\n",
       "      <th></th>\n",
       "      <th>title</th>\n",
       "    </tr>\n",
       "  </thead>\n",
       "  <tbody>\n",
       "    <tr>\n",
       "      <th>40392</th>\n",
       "      <td>roast long island duckling sage dressing candied yams apple sauce vegetables jardiniere</td>\n",
       "    </tr>\n",
       "    <tr>\n",
       "      <th>41779</th>\n",
       "      <td>scotch lamb broth with barley</td>\n",
       "    </tr>\n",
       "    <tr>\n",
       "      <th>9028</th>\n",
       "      <td>bbq baby back ribs pressure cooker finger lickin</td>\n",
       "    </tr>\n",
       "    <tr>\n",
       "      <th>36836</th>\n",
       "      <td>escalopes of bass villeroy</td>\n",
       "    </tr>\n",
       "    <tr>\n",
       "      <th>41259</th>\n",
       "      <td>veal cutlet breaded cream gravy or tomato sauce</td>\n",
       "    </tr>\n",
       "    <tr>\n",
       "      <th>49112</th>\n",
       "      <td>chicken giblet with noodles</td>\n",
       "    </tr>\n",
       "    <tr>\n",
       "      <th>37258</th>\n",
       "      <td>filet and shrimp oz served with salad french fries or baked potato and fresh vegetables</td>\n",
       "    </tr>\n",
       "    <tr>\n",
       "      <th>31065</th>\n",
       "      <td>assorted jell chantilly</td>\n",
       "    </tr>\n",
       "    <tr>\n",
       "      <th>35787</th>\n",
       "      <td>puree africaine gratin</td>\n",
       "    </tr>\n",
       "    <tr>\n",
       "      <th>35766</th>\n",
       "      <td>fried rice sub gum</td>\n",
       "    </tr>\n",
       "  </tbody>\n",
       "</table>\n",
       "</div>"
      ],
      "text/plain": [
       "                                                                                         title\n",
       "40392  roast long island duckling sage dressing candied yams apple sauce vegetables jardiniere\n",
       "41779  scotch lamb broth with barley                                                          \n",
       "9028   bbq baby back ribs pressure cooker finger lickin                                       \n",
       "36836  escalopes of bass villeroy                                                             \n",
       "41259  veal cutlet breaded cream gravy or tomato sauce                                        \n",
       "49112  chicken giblet with noodles                                                            \n",
       "37258  filet and shrimp oz served with salad french fries or baked potato and fresh vegetables\n",
       "31065  assorted jell chantilly                                                                \n",
       "35787  puree africaine gratin                                                                 \n",
       "35766  fried rice sub gum                                                                     "
      ]
     },
     "execution_count": 25,
     "metadata": {},
     "output_type": "execute_result"
    }
   ],
   "source": [
    "df.sample(10)"
   ]
  },
  {
   "cell_type": "markdown",
   "metadata": {},
   "source": [
    "Let's apply reduce_spaces to the whole thing"
   ]
  },
  {
   "cell_type": "code",
   "execution_count": 26,
   "metadata": {},
   "outputs": [],
   "source": [
    "df['cleaned_title'] = df['title'].apply(reduce_spaces)"
   ]
  },
  {
   "cell_type": "code",
   "execution_count": 27,
   "metadata": {},
   "outputs": [],
   "source": [
    "df['has_mult_consec_spaces'] = df['cleaned_title'].apply(has_multiple_consec_spaces)"
   ]
  },
  {
   "cell_type": "code",
   "execution_count": 28,
   "metadata": {},
   "outputs": [
    {
     "data": {
      "text/plain": [
       "False    50000\n",
       "Name: has_mult_consec_spaces, dtype: int64"
      ]
     },
     "execution_count": 28,
     "metadata": {},
     "output_type": "execute_result"
    }
   ],
   "source": [
    "df['has_mult_consec_spaces'].value_counts()"
   ]
  },
  {
   "cell_type": "code",
   "execution_count": 29,
   "metadata": {},
   "outputs": [
    {
     "data": {
      "text/html": [
       "<div>\n",
       "<style scoped>\n",
       "    .dataframe tbody tr th:only-of-type {\n",
       "        vertical-align: middle;\n",
       "    }\n",
       "\n",
       "    .dataframe tbody tr th {\n",
       "        vertical-align: top;\n",
       "    }\n",
       "\n",
       "    .dataframe thead th {\n",
       "        text-align: right;\n",
       "    }\n",
       "</style>\n",
       "<table border=\"1\" class=\"dataframe\">\n",
       "  <thead>\n",
       "    <tr style=\"text-align: right;\">\n",
       "      <th></th>\n",
       "      <th>title</th>\n",
       "      <th>cleaned_title</th>\n",
       "      <th>has_mult_consec_spaces</th>\n",
       "    </tr>\n",
       "  </thead>\n",
       "  <tbody>\n",
       "    <tr>\n",
       "      <th>6544</th>\n",
       "      <td>cook gongura chicken curry village style street catalog</td>\n",
       "      <td>cook gongura chicken curry village style street catalog</td>\n",
       "      <td>False</td>\n",
       "    </tr>\n",
       "    <tr>\n",
       "      <th>45848</th>\n",
       "      <td>fish entrees or roasts on dinner bill</td>\n",
       "      <td>fish entrees or roasts on dinner bill</td>\n",
       "      <td>False</td>\n",
       "    </tr>\n",
       "    <tr>\n",
       "      <th>47012</th>\n",
       "      <td>oyster stew when available</td>\n",
       "      <td>oyster stew when available</td>\n",
       "      <td>False</td>\n",
       "    </tr>\n",
       "    <tr>\n",
       "      <th>33918</th>\n",
       "      <td>clam chowder fulton market style</td>\n",
       "      <td>clam chowder fulton market style</td>\n",
       "      <td>False</td>\n",
       "    </tr>\n",
       "    <tr>\n",
       "      <th>20126</th>\n",
       "      <td>kind allowed saudi upside rice veggies mutton</td>\n",
       "      <td>kind allowed saudi upside rice veggies mutton</td>\n",
       "      <td>False</td>\n",
       "    </tr>\n",
       "    <tr>\n",
       "      <th>37376</th>\n",
       "      <td>jellied chicken comsomme</td>\n",
       "      <td>jellied chicken comsomme</td>\n",
       "      <td>False</td>\n",
       "    </tr>\n",
       "    <tr>\n",
       "      <th>25052</th>\n",
       "      <td>buzzards bay oysters half shell</td>\n",
       "      <td>buzzards bay oysters half shell</td>\n",
       "      <td>False</td>\n",
       "    </tr>\n",
       "    <tr>\n",
       "      <th>42496</th>\n",
       "      <td>scotch lobsters half newburg taknen from the shell sliced cooked in lobster stock brandy and cream served with rice</td>\n",
       "      <td>scotch lobsters half newburg taknen from the shell sliced cooked in lobster stock brandy and cream served with rice</td>\n",
       "      <td>False</td>\n",
       "    </tr>\n",
       "    <tr>\n",
       "      <th>29286</th>\n",
       "      <td>fresh blueberry pie</td>\n",
       "      <td>fresh blueberry pie</td>\n",
       "      <td>False</td>\n",
       "    </tr>\n",
       "    <tr>\n",
       "      <th>23140</th>\n",
       "      <td>traditional filipino breakfast tapsilog marinated beef garlic fried rice sunny side eggs</td>\n",
       "      <td>traditional filipino breakfast tapsilog marinated beef garlic fried rice sunny side eggs</td>\n",
       "      <td>False</td>\n",
       "    </tr>\n",
       "  </tbody>\n",
       "</table>\n",
       "</div>"
      ],
      "text/plain": [
       "                                                                                                                     title  \\\n",
       "6544   cook gongura chicken curry village style street catalog                                                               \n",
       "45848  fish entrees or roasts on dinner bill                                                                                 \n",
       "47012  oyster stew when available                                                                                            \n",
       "33918  clam chowder fulton market style                                                                                      \n",
       "20126  kind allowed saudi upside rice veggies mutton                                                                         \n",
       "37376  jellied chicken comsomme                                                                                              \n",
       "25052  buzzards bay oysters half shell                                                                                       \n",
       "42496  scotch lobsters half newburg taknen from the shell sliced cooked in lobster stock brandy and cream served with rice   \n",
       "29286  fresh blueberry pie                                                                                                   \n",
       "23140  traditional filipino breakfast tapsilog marinated beef garlic fried rice sunny side eggs                              \n",
       "\n",
       "                                                                                                             cleaned_title  \\\n",
       "6544   cook gongura chicken curry village style street catalog                                                               \n",
       "45848  fish entrees or roasts on dinner bill                                                                                 \n",
       "47012  oyster stew when available                                                                                            \n",
       "33918  clam chowder fulton market style                                                                                      \n",
       "20126  kind allowed saudi upside rice veggies mutton                                                                         \n",
       "37376  jellied chicken comsomme                                                                                              \n",
       "25052  buzzards bay oysters half shell                                                                                       \n",
       "42496  scotch lobsters half newburg taknen from the shell sliced cooked in lobster stock brandy and cream served with rice   \n",
       "29286  fresh blueberry pie                                                                                                   \n",
       "23140  traditional filipino breakfast tapsilog marinated beef garlic fried rice sunny side eggs                              \n",
       "\n",
       "       has_mult_consec_spaces  \n",
       "6544   False                   \n",
       "45848  False                   \n",
       "47012  False                   \n",
       "33918  False                   \n",
       "20126  False                   \n",
       "37376  False                   \n",
       "25052  False                   \n",
       "42496  False                   \n",
       "29286  False                   \n",
       "23140  False                   "
      ]
     },
     "execution_count": 29,
     "metadata": {},
     "output_type": "execute_result"
    }
   ],
   "source": [
    "df.sample(10)"
   ]
  },
  {
   "cell_type": "code",
   "execution_count": 30,
   "metadata": {},
   "outputs": [],
   "source": [
    "output = df.drop(['title', 'has_mult_consec_spaces'], axis = 1)"
   ]
  },
  {
   "cell_type": "code",
   "execution_count": 31,
   "metadata": {},
   "outputs": [
    {
     "data": {
      "text/html": [
       "<div>\n",
       "<style scoped>\n",
       "    .dataframe tbody tr th:only-of-type {\n",
       "        vertical-align: middle;\n",
       "    }\n",
       "\n",
       "    .dataframe tbody tr th {\n",
       "        vertical-align: top;\n",
       "    }\n",
       "\n",
       "    .dataframe thead th {\n",
       "        text-align: right;\n",
       "    }\n",
       "</style>\n",
       "<table border=\"1\" class=\"dataframe\">\n",
       "  <thead>\n",
       "    <tr style=\"text-align: right;\">\n",
       "      <th></th>\n",
       "      <th>cleaned_title</th>\n",
       "    </tr>\n",
       "  </thead>\n",
       "  <tbody>\n",
       "    <tr>\n",
       "      <th>739</th>\n",
       "      <td>exactly sure bread look</td>\n",
       "    </tr>\n",
       "    <tr>\n",
       "      <th>45612</th>\n",
       "      <td>cold sliced turkey sandwich with mayonnaise cranberry jelly</td>\n",
       "    </tr>\n",
       "    <tr>\n",
       "      <th>37379</th>\n",
       "      <td>easter punch</td>\n",
       "    </tr>\n",
       "    <tr>\n",
       "      <th>47098</th>\n",
       "      <td>nureyev vodka white creme de cacao</td>\n",
       "    </tr>\n",
       "    <tr>\n",
       "      <th>43917</th>\n",
       "      <td>boiled fowls supreme sauce</td>\n",
       "    </tr>\n",
       "    <tr>\n",
       "      <th>35414</th>\n",
       "      <td>chicken chop suey with mushrooms</td>\n",
       "    </tr>\n",
       "    <tr>\n",
       "      <th>18775</th>\n",
       "      <td>japanese curry steamed rice dumplings</td>\n",
       "    </tr>\n",
       "    <tr>\n",
       "      <th>12542</th>\n",
       "      <td>rosemary garlic crusted top sirloin</td>\n",
       "    </tr>\n",
       "    <tr>\n",
       "      <th>24599</th>\n",
       "      <td>double shackburger cheese fries</td>\n",
       "    </tr>\n",
       "    <tr>\n",
       "      <th>19025</th>\n",
       "      <td>told guys might breakfast steak eggs xposted ketorecipes</td>\n",
       "    </tr>\n",
       "    <tr>\n",
       "      <th>31454</th>\n",
       "      <td>french pastries each</td>\n",
       "    </tr>\n",
       "    <tr>\n",
       "      <th>36649</th>\n",
       "      <td>codfish fried with bacon</td>\n",
       "    </tr>\n",
       "    <tr>\n",
       "      <th>22942</th>\n",
       "      <td>chicken parmesean</td>\n",
       "    </tr>\n",
       "    <tr>\n",
       "      <th>43839</th>\n",
       "      <td>a small bottle of vaselli or a small mateus</td>\n",
       "    </tr>\n",
       "    <tr>\n",
       "      <th>37600</th>\n",
       "      <td>roast turkey cranberry sauce</td>\n",
       "    </tr>\n",
       "    <tr>\n",
       "      <th>9240</th>\n",
       "      <td>try stake</td>\n",
       "    </tr>\n",
       "    <tr>\n",
       "      <th>41360</th>\n",
       "      <td>appollinaris table water</td>\n",
       "    </tr>\n",
       "    <tr>\n",
       "      <th>10205</th>\n",
       "      <td>spaghetti squash ham peas cream sauce</td>\n",
       "    </tr>\n",
       "    <tr>\n",
       "      <th>5367</th>\n",
       "      <td>easy red velvet cake bakelikeapro</td>\n",
       "    </tr>\n",
       "    <tr>\n",
       "      <th>3192</th>\n",
       "      <td>hash browns woven bacon poached egg hollandaise sauce take eggs benedict</td>\n",
       "    </tr>\n",
       "  </tbody>\n",
       "</table>\n",
       "</div>"
      ],
      "text/plain": [
       "                                                                  cleaned_title\n",
       "739    exactly sure bread look                                                 \n",
       "45612  cold sliced turkey sandwich with mayonnaise cranberry jelly             \n",
       "37379  easter punch                                                            \n",
       "47098  nureyev vodka white creme de cacao                                      \n",
       "43917  boiled fowls supreme sauce                                              \n",
       "35414  chicken chop suey with mushrooms                                        \n",
       "18775  japanese curry steamed rice dumplings                                   \n",
       "12542  rosemary garlic crusted top sirloin                                     \n",
       "24599  double shackburger cheese fries                                         \n",
       "19025  told guys might breakfast steak eggs xposted ketorecipes                \n",
       "31454  french pastries each                                                    \n",
       "36649  codfish fried with bacon                                                \n",
       "22942  chicken parmesean                                                       \n",
       "43839  a small bottle of vaselli or a small mateus                             \n",
       "37600  roast turkey cranberry sauce                                            \n",
       "9240   try stake                                                               \n",
       "41360  appollinaris table water                                                \n",
       "10205  spaghetti squash ham peas cream sauce                                   \n",
       "5367   easy red velvet cake bakelikeapro                                       \n",
       "3192   hash browns woven bacon poached egg hollandaise sauce take eggs benedict"
      ]
     },
     "execution_count": 31,
     "metadata": {},
     "output_type": "execute_result"
    }
   ],
   "source": [
    "output.sample(20)"
   ]
  },
  {
   "cell_type": "code",
   "execution_count": 32,
   "metadata": {},
   "outputs": [],
   "source": [
    "output.to_pickle('../data/kaggle_and_reddit_dishes_no_spaces.pkl')"
   ]
  },
  {
   "cell_type": "markdown",
   "metadata": {},
   "source": [
    "# Below is a test to see if pickling has worked"
   ]
  },
  {
   "cell_type": "code",
   "execution_count": 35,
   "metadata": {},
   "outputs": [],
   "source": [
    "with open('../flask/pickles/unique_chars.pkl', 'rb') as f:\n",
    "    chars = pickle.load(f)"
   ]
  },
  {
   "cell_type": "code",
   "execution_count": 38,
   "metadata": {},
   "outputs": [
    {
     "data": {
      "text/plain": [
       "[' ',\n",
       " 'a',\n",
       " 'b',\n",
       " 'c',\n",
       " 'd',\n",
       " 'e',\n",
       " 'f',\n",
       " 'g',\n",
       " 'h',\n",
       " 'i',\n",
       " 'j',\n",
       " 'k',\n",
       " 'l',\n",
       " 'm',\n",
       " 'n',\n",
       " 'o',\n",
       " 'p',\n",
       " 'q',\n",
       " 'r',\n",
       " 's',\n",
       " 't',\n",
       " 'u',\n",
       " 'v',\n",
       " 'w',\n",
       " 'x',\n",
       " 'y',\n",
       " 'z',\n",
       " '«',\n",
       " '°',\n",
       " '´',\n",
       " '»',\n",
       " '½',\n",
       " 'à',\n",
       " 'á',\n",
       " 'â',\n",
       " 'ä',\n",
       " 'ç',\n",
       " 'è',\n",
       " 'é',\n",
       " 'ê',\n",
       " 'ë',\n",
       " 'î',\n",
       " 'ï',\n",
       " 'ô',\n",
       " 'ö',\n",
       " 'ú',\n",
       " 'ü',\n",
       " 'œ',\n",
       " '–',\n",
       " '—',\n",
       " '•']"
      ]
     },
     "execution_count": 38,
     "metadata": {},
     "output_type": "execute_result"
    }
   ],
   "source": [
    "chars"
   ]
  },
  {
   "cell_type": "code",
   "execution_count": 40,
   "metadata": {},
   "outputs": [],
   "source": [
    "with open('../flask/pickles/char_to_int.pkl', 'rb') as f:\n",
    "    chars_to_int = pickle.load(f)"
   ]
  },
  {
   "cell_type": "code",
   "execution_count": 43,
   "metadata": {},
   "outputs": [
    {
     "data": {
      "text/plain": [
       "{' ': 0,\n",
       " 'a': 1,\n",
       " 'b': 2,\n",
       " 'c': 3,\n",
       " 'd': 4,\n",
       " 'e': 5,\n",
       " 'f': 6,\n",
       " 'g': 7,\n",
       " 'h': 8,\n",
       " 'i': 9,\n",
       " 'j': 10,\n",
       " 'k': 11,\n",
       " 'l': 12,\n",
       " 'm': 13,\n",
       " 'n': 14,\n",
       " 'o': 15,\n",
       " 'p': 16,\n",
       " 'q': 17,\n",
       " 'r': 18,\n",
       " 's': 19,\n",
       " 't': 20,\n",
       " 'u': 21,\n",
       " 'v': 22,\n",
       " 'w': 23,\n",
       " 'x': 24,\n",
       " 'y': 25,\n",
       " 'z': 26,\n",
       " '«': 27,\n",
       " '°': 28,\n",
       " '´': 29,\n",
       " '»': 30,\n",
       " '½': 31,\n",
       " 'à': 32,\n",
       " 'á': 33,\n",
       " 'â': 34,\n",
       " 'ä': 35,\n",
       " 'ç': 36,\n",
       " 'è': 37,\n",
       " 'é': 38,\n",
       " 'ê': 39,\n",
       " 'ë': 40,\n",
       " 'î': 41,\n",
       " 'ï': 42,\n",
       " 'ô': 43,\n",
       " 'ö': 44,\n",
       " 'ú': 45,\n",
       " 'ü': 46,\n",
       " 'œ': 47,\n",
       " '–': 48,\n",
       " '—': 49,\n",
       " '•': 50}"
      ]
     },
     "execution_count": 43,
     "metadata": {},
     "output_type": "execute_result"
    }
   ],
   "source": [
    "chars_to_int"
   ]
  },
  {
   "cell_type": "code",
   "execution_count": 44,
   "metadata": {},
   "outputs": [],
   "source": [
    "with open('../flask/pickles/patterns.pkl', 'rb') as f:\n",
    "    patterns = pickle.load(f)"
   ]
  },
  {
   "cell_type": "code",
   "execution_count": 51,
   "metadata": {},
   "outputs": [
    {
     "data": {
      "text/plain": [
       "159844"
      ]
     },
     "execution_count": 51,
     "metadata": {},
     "output_type": "execute_result"
    }
   ],
   "source": [
    "len(patterns)"
   ]
  },
  {
   "cell_type": "markdown",
   "metadata": {},
   "source": [
    "### Test to open model:"
   ]
  },
  {
   "cell_type": "code",
   "execution_count": 55,
   "metadata": {},
   "outputs": [
    {
     "name": "stdout",
     "output_type": "stream",
     "text": [
      "WARNING:tensorflow:From /anaconda3/lib/python3.7/site-packages/tensorflow/python/framework/op_def_library.py:263: colocate_with (from tensorflow.python.framework.ops) is deprecated and will be removed in a future version.\n",
      "Instructions for updating:\n",
      "Colocations handled automatically by placer.\n",
      "WARNING:tensorflow:From /anaconda3/lib/python3.7/site-packages/keras/backend/tensorflow_backend.py:3445: calling dropout (from tensorflow.python.ops.nn_ops) with keep_prob is deprecated and will be removed in a future version.\n",
      "Instructions for updating:\n",
      "Please use `rate` instead of `keep_prob`. Rate should be set to `rate = 1 - keep_prob`.\n"
     ]
    }
   ],
   "source": [
    "# define the LSTM model\n",
    "seq_length = 35\n",
    "n_vocab = 51\n",
    "\n",
    "model = Sequential()\n",
    "model.add(LSTM(256, input_shape=(seq_length, n_vocab)))\n",
    "model.add(Dropout(0.2))\n",
    "model.add(Dense(n_vocab, activation='softmax'))\n",
    "model.compile(loss='categorical_crossentropy', optimizer='adam')"
   ]
  },
  {
   "cell_type": "code",
   "execution_count": 56,
   "metadata": {},
   "outputs": [],
   "source": [
    "# load model\n",
    "filepath_current = \"../flask/pickles/weights-improvement-150-0.5860.hdf5\"\n",
    "model.load_weights(filepath_current)\n",
    "model.compile(loss='categorical_crossentropy', optimizer='adam')"
   ]
  },
  {
   "cell_type": "code",
   "execution_count": null,
   "metadata": {},
   "outputs": [],
   "source": []
  }
 ],
 "metadata": {
  "kernelspec": {
   "display_name": "Python 3",
   "language": "python",
   "name": "python3"
  },
  "language_info": {
   "codemirror_mode": {
    "name": "ipython",
    "version": 3
   },
   "file_extension": ".py",
   "mimetype": "text/x-python",
   "name": "python",
   "nbconvert_exporter": "python",
   "pygments_lexer": "ipython3",
   "version": "3.7.2"
  }
 },
 "nbformat": 4,
 "nbformat_minor": 2
}
